{
 "cells": [
  {
   "cell_type": "markdown",
   "metadata": {
    "toc": true
   },
   "source": [
    "<h1>Table of Contents<span class=\"tocSkip\"></span></h1>\n",
    "<div class=\"toc\"><ul class=\"toc-item\"><li><span><a href=\"#Objective\" data-toc-modified-id=\"Objective-1\"><span class=\"toc-item-num\">1&nbsp;&nbsp;</span>Objective</a></span></li><li><span><a href=\"#Used-Python-Libraries\" data-toc-modified-id=\"Used-Python-Libraries-2\"><span class=\"toc-item-num\">2&nbsp;&nbsp;</span>Used Python Libraries</a></span></li><li><span><a href=\"#Load-Data\" data-toc-modified-id=\"Load-Data-3\"><span class=\"toc-item-num\">3&nbsp;&nbsp;</span>Load Data</a></span><ul class=\"toc-item\"><li><span><a href=\"#Chats-Data\" data-toc-modified-id=\"Chats-Data-3.1\"><span class=\"toc-item-num\">3.1&nbsp;&nbsp;</span>Chats Data</a></span></li><li><span><a href=\"#Talking-Points-Data\" data-toc-modified-id=\"Talking-Points-Data-3.2\"><span class=\"toc-item-num\">3.2&nbsp;&nbsp;</span>Talking Points Data</a></span></li></ul></li><li><span><a href=\"#A-First-Glance-at-Chats\" data-toc-modified-id=\"A-First-Glance-at-Chats-4\"><span class=\"toc-item-num\">4&nbsp;&nbsp;</span>A First Glance at Chats</a></span></li><li><span><a href=\"#Pre-Trained-Sentence-Encoder\" data-toc-modified-id=\"Pre-Trained-Sentence-Encoder-5\"><span class=\"toc-item-num\">5&nbsp;&nbsp;</span>Pre-Trained Sentence Encoder</a></span><ul class=\"toc-item\"><li><span><a href=\"#Example-of-Using-Encoder\" data-toc-modified-id=\"Example-of-Using-Encoder-5.1\"><span class=\"toc-item-num\">5.1&nbsp;&nbsp;</span>Example of Using Encoder</a></span></li><li><span><a href=\"#Using-Encoder-on-Chats\" data-toc-modified-id=\"Using-Encoder-on-Chats-5.2\"><span class=\"toc-item-num\">5.2&nbsp;&nbsp;</span>Using Encoder on Chats</a></span></li></ul></li><li><span><a href=\"#Data-Processing\" data-toc-modified-id=\"Data-Processing-6\"><span class=\"toc-item-num\">6&nbsp;&nbsp;</span>Data Processing</a></span><ul class=\"toc-item\"><li><span><a href=\"#Processing-Chats\" data-toc-modified-id=\"Processing-Chats-6.1\"><span class=\"toc-item-num\">6.1&nbsp;&nbsp;</span>Processing Chats</a></span><ul class=\"toc-item\"><li><span><a href=\"#Example-of-Processed-Chat-Data\" data-toc-modified-id=\"Example-of-Processed-Chat-Data-6.1.1\"><span class=\"toc-item-num\">6.1.1&nbsp;&nbsp;</span>Example of Processed Chat Data</a></span></li></ul></li></ul></li><li><span><a href=\"#Analyzing-Processed-Data\" data-toc-modified-id=\"Analyzing-Processed-Data-7\"><span class=\"toc-item-num\">7&nbsp;&nbsp;</span>Analyzing Processed Data</a></span><ul class=\"toc-item\"><li><span><a href=\"#Analyzing-Chats\" data-toc-modified-id=\"Analyzing-Chats-7.1\"><span class=\"toc-item-num\">7.1&nbsp;&nbsp;</span>Analyzing Chats</a></span></li></ul></li><li><span><a href=\"#Interactive-Visualization-of-Results\" data-toc-modified-id=\"Interactive-Visualization-of-Results-8\"><span class=\"toc-item-num\">8&nbsp;&nbsp;</span>Interactive Visualization of Results</a></span></li></ul></div>"
   ]
  },
  {
   "cell_type": "markdown",
   "metadata": {},
   "source": [
    "## Objective\n",
    "\n",
    "This project will prototype a screening tool to:\n",
    "\n",
    "    * identify calls where customer agents speak about offers/recommendations they are able to see as talking points in the customer panel during a call;\n",
    "    * determine whether the \"discussed\" botton (supposedly pressed by agents) describes accurately if a recommendation was pitched or not.\n",
    "    \n",
    "Two data tables will be used:\n",
    "\n",
    "    * a table containing information about the call and the call transcripts \n",
    "    * a table containing information about discussion of talking points\n",
    "    \n",
    "<img src=\"xxx.png\" width=800 /> ![](one_pager_img)"
   ]
  },
  {
   "cell_type": "markdown",
   "metadata": {},
   "source": [
    "[Back to Contents](#Table-of-Contents)"
   ]
  },
  {
   "cell_type": "markdown",
   "metadata": {},
   "source": [
    "## Used Python Libraries"
   ]
  },
  {
   "cell_type": "code",
   "execution_count": 1,
   "metadata": {},
   "outputs": [],
   "source": [
    "import tensorflow as tf\n",
    "import tensorflow_hub as hub\n",
    "import tensorflow_text #needed to avoid crashes\n",
    "import os"
   ]
  },
  {
   "cell_type": "code",
   "execution_count": 2,
   "metadata": {},
   "outputs": [],
   "source": [
    "import os\n",
    "import glob"
   ]
  },
  {
   "cell_type": "code",
   "execution_count": 3,
   "metadata": {},
   "outputs": [],
   "source": [
    "import pandas as pd\n",
    "import numpy as np\n",
    "import json"
   ]
  },
  {
   "cell_type": "code",
   "execution_count": 4,
   "metadata": {},
   "outputs": [],
   "source": [
    "from datetime import timedelta"
   ]
  },
  {
   "cell_type": "code",
   "execution_count": 5,
   "metadata": {},
   "outputs": [],
   "source": [
    "import re"
   ]
  },
  {
   "cell_type": "code",
   "execution_count": 6,
   "metadata": {},
   "outputs": [],
   "source": [
    "from sentence_transformers import SentenceTransformer, util"
   ]
  },
  {
   "cell_type": "code",
   "execution_count": 7,
   "metadata": {},
   "outputs": [],
   "source": [
    "import psutil\n",
    "import ray\n",
    "import sys"
   ]
  },
  {
   "cell_type": "code",
   "execution_count": 8,
   "metadata": {},
   "outputs": [],
   "source": [
    "from random import sample "
   ]
  },
  {
   "cell_type": "code",
   "execution_count": 9,
   "metadata": {},
   "outputs": [],
   "source": [
    "from ipywidgets import interact, interactive, fixed, interact_manual\n",
    "import ipywidgets as widgets"
   ]
  },
  {
   "cell_type": "markdown",
   "metadata": {},
   "source": [
    "[Back to Contents](#Table-of-Contents)"
   ]
  },
  {
   "cell_type": "markdown",
   "metadata": {},
   "source": [
    "## Load Data\n",
    "\n",
    "We use data provided by Amazon Science ([Topical Chats](https://www.amazon.science/blog/amazon-releases-data-set-of-annotated-conversations-to-aid-development-of-socialbots) project). "
   ]
  },
  {
   "cell_type": "code",
   "execution_count": null,
   "metadata": {},
   "outputs": [],
   "source": [
    "#https://registry.opendata.aws/topical-chat-enriched/\n",
    "\n",
    "import boto3\n",
    "import os\n",
    "from botocore import UNSIGNED\n",
    "from botocore.client import Config\n",
    "\n",
    "def download_all_files():\n",
    "    #initiate s3 resource\n",
    "    s3 = boto3.resource('s3', config=Config(signature_version=UNSIGNED))\n",
    "    # select bucket\n",
    "    my_bucket = s3.Bucket('enriched-topical-chat')\n",
    "    # download file into current directory\n",
    "    for s3_object in my_bucket.objects.all():\n",
    "        filename = s3_object.key\n",
    "        my_bucket.download_file(s3_object.key, filename)\n",
    "        \n",
    "download_all_files()"
   ]
  },
  {
   "cell_type": "code",
   "execution_count": null,
   "metadata": {},
   "outputs": [],
   "source": [
    "!mkdir alexa"
   ]
  },
  {
   "cell_type": "code",
   "execution_count": null,
   "metadata": {},
   "outputs": [],
   "source": [
    "!mv *.json alexa/"
   ]
  },
  {
   "cell_type": "code",
   "execution_count": 43,
   "metadata": {},
   "outputs": [
    {
     "data": {
      "text/html": [
       "<div>\n",
       "<style scoped>\n",
       "    .dataframe tbody tr th:only-of-type {\n",
       "        vertical-align: middle;\n",
       "    }\n",
       "\n",
       "    .dataframe tbody tr th {\n",
       "        vertical-align: top;\n",
       "    }\n",
       "\n",
       "    .dataframe thead th {\n",
       "        text-align: right;\n",
       "    }\n",
       "</style>\n",
       "<table border=\"1\" class=\"dataframe\">\n",
       "  <thead>\n",
       "    <tr style=\"text-align: right;\">\n",
       "      <th></th>\n",
       "      <th>config</th>\n",
       "      <th>content</th>\n",
       "      <th>conversation_rating</th>\n",
       "    </tr>\n",
       "  </thead>\n",
       "  <tbody>\n",
       "    <tr>\n",
       "      <th>t_bde29ce2-4153-4056-9eb7-f4ad710505fe</th>\n",
       "      <td>C</td>\n",
       "      <td>[{'message': ['Are you a fan of Google or Micr...</td>\n",
       "      <td>{'agent_1': 'Excellent', 'agent_2': 'Excellent'}</td>\n",
       "    </tr>\n",
       "    <tr>\n",
       "      <th>t_1abc9c37-387d-4013-8691-88ef8c010e58</th>\n",
       "      <td>B</td>\n",
       "      <td>[{'message': ['do you like dance?'], 'agent': ...</td>\n",
       "      <td>{'agent_1': 'Excellent', 'agent_2': 'Excellent'}</td>\n",
       "    </tr>\n",
       "    <tr>\n",
       "      <th>t_1a600621-5ad4-409c-a812-bc0b2bb03aa6</th>\n",
       "      <td>C</td>\n",
       "      <td>[{'message': ['Hey what's up do use Google ver...</td>\n",
       "      <td>{'agent_1': 'Excellent', 'agent_2': 'Excellent'}</td>\n",
       "    </tr>\n",
       "    <tr>\n",
       "      <th>t_01269680-99c3-4ab4-9df3-23901e0623c9</th>\n",
       "      <td>C</td>\n",
       "      <td>[{'message': ['Hi!', 'do you like to dance?'],...</td>\n",
       "      <td>{'agent_1': 'Excellent', 'agent_2': 'Excellent'}</td>\n",
       "    </tr>\n",
       "    <tr>\n",
       "      <th>t_c4f84350-a9e8-4928-bde8-5193b62388e0</th>\n",
       "      <td>B</td>\n",
       "      <td>[{'message': ['do you like dance?'], 'agent': ...</td>\n",
       "      <td>{'agent_1': 'Excellent', 'agent_2': 'Excellent'}</td>\n",
       "    </tr>\n",
       "  </tbody>\n",
       "</table>\n",
       "</div>"
      ],
      "text/plain": [
       "                                       config  \\\n",
       "t_bde29ce2-4153-4056-9eb7-f4ad710505fe      C   \n",
       "t_1abc9c37-387d-4013-8691-88ef8c010e58      B   \n",
       "t_1a600621-5ad4-409c-a812-bc0b2bb03aa6      C   \n",
       "t_01269680-99c3-4ab4-9df3-23901e0623c9      C   \n",
       "t_c4f84350-a9e8-4928-bde8-5193b62388e0      B   \n",
       "\n",
       "                                                                                  content  \\\n",
       "t_bde29ce2-4153-4056-9eb7-f4ad710505fe  [{'message': ['Are you a fan of Google or Micr...   \n",
       "t_1abc9c37-387d-4013-8691-88ef8c010e58  [{'message': ['do you like dance?'], 'agent': ...   \n",
       "t_1a600621-5ad4-409c-a812-bc0b2bb03aa6  [{'message': ['Hey what's up do use Google ver...   \n",
       "t_01269680-99c3-4ab4-9df3-23901e0623c9  [{'message': ['Hi!', 'do you like to dance?'],...   \n",
       "t_c4f84350-a9e8-4928-bde8-5193b62388e0  [{'message': ['do you like dance?'], 'agent': ...   \n",
       "\n",
       "                                                                     conversation_rating  \n",
       "t_bde29ce2-4153-4056-9eb7-f4ad710505fe  {'agent_1': 'Excellent', 'agent_2': 'Excellent'}  \n",
       "t_1abc9c37-387d-4013-8691-88ef8c010e58  {'agent_1': 'Excellent', 'agent_2': 'Excellent'}  \n",
       "t_1a600621-5ad4-409c-a812-bc0b2bb03aa6  {'agent_1': 'Excellent', 'agent_2': 'Excellent'}  \n",
       "t_01269680-99c3-4ab4-9df3-23901e0623c9  {'agent_1': 'Excellent', 'agent_2': 'Excellent'}  \n",
       "t_c4f84350-a9e8-4928-bde8-5193b62388e0  {'agent_1': 'Excellent', 'agent_2': 'Excellent'}  "
      ]
     },
     "execution_count": 43,
     "metadata": {},
     "output_type": "execute_result"
    }
   ],
   "source": [
    "train_df = pd.read_json('data/train.json').T\n",
    "train_df.head()"
   ]
  },
  {
   "cell_type": "code",
   "execution_count": 81,
   "metadata": {},
   "outputs": [
    {
     "data": {
      "text/plain": [
       "[{'message': [\"Hey what's up do use Google very often?I really love the company and was surprised to hear that it was founded back in 1998.\"],\n",
       "  'agent': 'agent_1',\n",
       "  'segmented_annotations': [{'da': '<Statement>',\n",
       "    'gt_ks': {'ds': 'wiki',\n",
       "     'section': 'FS1',\n",
       "     'start_index': 479,\n",
       "     'end_index': 553,\n",
       "     'score': 0.27}}],\n",
       "  'gt_turn_ks': {'ds': 'wiki',\n",
       "   'section': 'FS1',\n",
       "   'start_index': 479,\n",
       "   'end_index': 553,\n",
       "   'score': 0.27}},\n",
       " {'message': ['i think everyone must use it daily!',\n",
       "   'its become ingrained in every day life'],\n",
       "  'agent': 'agent_2',\n",
       "  'segmented_annotations': [{'da': '<Statement>',\n",
       "    'gt_ks': {'ds': 'wiki',\n",
       "     'section': 'FS2',\n",
       "     'start_index': 558,\n",
       "     'end_index': 778,\n",
       "     'score': 0.03}},\n",
       "   {'da': '<Statement>',\n",
       "    'gt_ks': {'ds': 'fun_facts',\n",
       "     'section': 'FS3',\n",
       "     'index': 1,\n",
       "     'score': 0.12}}],\n",
       "  'gt_turn_ks': {'ds': 'fun_facts',\n",
       "   'section': 'FS3',\n",
       "   'index': 1,\n",
       "   'score': 0.11}},\n",
       " {'message': ['Agreed.',\n",
       "   'The Google headquarters in Mountain View California is nicknamed the Google Plex.'],\n",
       "  'agent': 'agent_1',\n",
       "  'segmented_annotations': [{'da': '<Statement>',\n",
       "    'gt_ks': {'ds': 'fun_facts', 'section': 'FS3', 'index': 4, 'score': 0.0}},\n",
       "   {'da': '<Statement>',\n",
       "    'gt_ks': {'ds': 'wiki',\n",
       "     'section': 'FS1',\n",
       "     'start_index': 554,\n",
       "     'end_index': 710,\n",
       "     'score': 0.56}}],\n",
       "  'gt_turn_ks': {'ds': 'wiki',\n",
       "   'section': 'FS1',\n",
       "   'start_index': 554,\n",
       "   'end_index': 710,\n",
       "   'score': 0.53}},\n",
       " {'message': ['thats funny.',\n",
       "   'The current CEO is Sundar Pichai, i didnt know Larry Page was replaced'],\n",
       "  'agent': 'agent_2',\n",
       "  'segmented_annotations': [{'da': '<Statement>',\n",
       "    'gt_ks': {'ds': 'fun_facts', 'section': 'FS3', 'index': 4, 'score': 0.0}},\n",
       "   {'da': '<Statement>',\n",
       "    'gt_ks': {'ds': 'wiki',\n",
       "     'section': 'FS1',\n",
       "     'start_index': 945,\n",
       "     'end_index': 1040,\n",
       "     'score': 0.66}}],\n",
       "  'gt_turn_ks': {'ds': 'wiki',\n",
       "   'section': 'FS1',\n",
       "   'start_index': 945,\n",
       "   'end_index': 1040,\n",
       "   'score': 0.58}},\n",
       " {'message': [\"Oh yeah I didn't know that either.\",\n",
       "   'I also want to go to google Plex to see the goats who mow their lawn by eating it.'],\n",
       "  'agent': 'agent_1',\n",
       "  'segmented_annotations': [{'da': '<Statement>',\n",
       "    'gt_ks': {'ds': 'fun_facts', 'section': 'FS2', 'index': 3, 'score': 0.02}},\n",
       "   {'da': '<Statement>',\n",
       "    'gt_ks': {'ds': 'fun_facts',\n",
       "     'section': 'FS1',\n",
       "     'index': 2,\n",
       "     'score': 0.44}}],\n",
       "  'gt_turn_ks': {'ds': 'fun_facts',\n",
       "   'section': 'FS1',\n",
       "   'index': 2,\n",
       "   'score': 0.37}},\n",
       " {'message': ['say what now??', 'they have that?', '?'],\n",
       "  'agent': 'agent_2',\n",
       "  'segmented_annotations': [{'da': '<Statement>',\n",
       "    'gt_ks': {'ds': 'fun_facts', 'section': 'FS3', 'index': 4, 'score': 0.0}},\n",
       "   {'da': '<Statement>',\n",
       "    'gt_ks': {'ds': 'fun_facts', 'section': 'FS2', 'index': 2, 'score': 0.12}},\n",
       "   {'da': '<Statement>',\n",
       "    'gt_ks': {'ds': 'fun_facts', 'section': 'FS3', 'index': 4, 'score': 0.0}}],\n",
       "  'gt_turn_ks': {'ds': 'fun_facts',\n",
       "   'section': 'FS2',\n",
       "   'index': 2,\n",
       "   'score': 0.07}},\n",
       " {'message': ['Yeah apparently lol!',\n",
       "   'They do that instead of hiring people to mow!'],\n",
       "  'agent': 'agent_1',\n",
       "  'segmented_annotations': [{'da': '<Statement>',\n",
       "    'gt_ks': {'ds': 'fun_facts', 'section': 'FS3', 'index': 4, 'score': 0.0}},\n",
       "   {'da': '<Statement>',\n",
       "    'gt_ks': {'ds': 'fun_facts',\n",
       "     'section': 'FS1',\n",
       "     'index': 2,\n",
       "     'score': 0.55}}],\n",
       "  'gt_turn_ks': {'ds': 'fun_facts',\n",
       "   'section': 'FS1',\n",
       "   'index': 2,\n",
       "   'score': 0.42}},\n",
       " {'message': ['thats both funny and i guess imaginative.',\n",
       "   'leave it to a huge tech company to employ actual goats!'],\n",
       "  'agent': 'agent_2',\n",
       "  'segmented_annotations': [{'da': '<Statement>',\n",
       "    'gt_ks': {'ds': 'fun_facts', 'section': 'FS3', 'index': 0, 'score': 0.02}},\n",
       "   {'da': '<Statement>',\n",
       "    'gt_ks': {'ds': 'fun_facts',\n",
       "     'section': 'FS1',\n",
       "     'index': 2,\n",
       "     'score': 0.17}}],\n",
       "  'gt_turn_ks': {'ds': 'fun_facts',\n",
       "   'section': 'FS1',\n",
       "   'index': 2,\n",
       "   'score': 0.13}},\n",
       " {'message': ['Yeah exactly I am sure they are cheaper.',\n",
       "   \"One thing I bet they couldn't exploit is fish.\",\n",
       "   'I think fish are so cool there is actually a breed of jellyfish that is immortal.'],\n",
       "  'agent': 'agent_1',\n",
       "  'segmented_annotations': [{'da': '<NoDialogAct>',\n",
       "    'gt_ks': {'ds': 'wiki',\n",
       "     'section': 'FS2',\n",
       "     'start_index': 289,\n",
       "     'end_index': 373,\n",
       "     'score': 0.05}},\n",
       "   {'da': '<Statement>',\n",
       "    'gt_ks': {'ds': 'fun_facts', 'section': 'FS2', 'index': 2, 'score': 0.2}},\n",
       "   {'da': '<Statement>',\n",
       "    'gt_ks': {'ds': 'fun_facts', 'section': 'FS2', 'index': 3, 'score': 0.8}}],\n",
       "  'gt_turn_ks': {'ds': 'fun_facts',\n",
       "   'section': 'FS2',\n",
       "   'index': 3,\n",
       "   'score': 0.53}},\n",
       " {'message': ['i had rememered hearing about that before.',\n",
       "   'Immortatlity is wasted on a jellyfish haha.',\n",
       "   'did you know a seahorse is the only fish that has an actual neck?'],\n",
       "  'agent': 'agent_2',\n",
       "  'segmented_annotations': [{'da': '<Statement>',\n",
       "    'gt_ks': {'ds': 'fun_facts', 'section': 'FS3', 'index': 3, 'score': 0.06}},\n",
       "   {'da': '<Statement>',\n",
       "    'gt_ks': {'ds': 'fun_facts', 'section': 'FS2', 'index': 3, 'score': 0.39}},\n",
       "   {'da': '<Statement>',\n",
       "    'gt_ks': {'ds': 'fun_facts',\n",
       "     'section': 'FS2',\n",
       "     'index': 2,\n",
       "     'score': 0.79}}],\n",
       "  'gt_turn_ks': {'ds': 'fun_facts',\n",
       "   'section': 'FS2',\n",
       "   'index': 2,\n",
       "   'score': 0.56}},\n",
       " {'message': ['That is so funny I guess I never considered a seahorse a fish.',\n",
       "   'The black swallower fish sounds a lot like a snake because it can eat pray that is so large.'],\n",
       "  'agent': 'agent_1',\n",
       "  'segmented_annotations': [{'da': '<Statement>',\n",
       "    'gt_ks': {'ds': 'fun_facts', 'section': 'FS2', 'index': 2, 'score': 0.55}},\n",
       "   {'da': '<Statement>',\n",
       "    'gt_ks': {'ds': 'fun_facts',\n",
       "     'section': 'FS2',\n",
       "     'index': 0,\n",
       "     'score': 0.47000000000000003}}],\n",
       "  'gt_turn_ks': {'ds': 'fun_facts',\n",
       "   'section': 'FS2',\n",
       "   'index': 0,\n",
       "   'score': 0.44}},\n",
       " {'message': ['i guess they live up to their name then!'],\n",
       "  'agent': 'agent_2',\n",
       "  'segmented_annotations': [{'da': '<Statement>',\n",
       "    'gt_ks': {'ds': 'fun_facts',\n",
       "     'section': 'FS1',\n",
       "     'index': 2,\n",
       "     'score': 0.14}}],\n",
       "  'gt_turn_ks': {'ds': 'fun_facts',\n",
       "   'section': 'FS1',\n",
       "   'index': 2,\n",
       "   'score': 0.14}},\n",
       " {'message': ['It seems they do.',\n",
       "   \"I also didn't know that there was a difference with how freshwater and saltwater fish drink.\"],\n",
       "  'agent': 'agent_1',\n",
       "  'segmented_annotations': [{'da': '<Statement>',\n",
       "    'gt_ks': {'ds': 'wiki',\n",
       "     'section': 'FS1',\n",
       "     'start_index': 479,\n",
       "     'end_index': 553,\n",
       "     'score': 0.07}},\n",
       "   {'da': '<Statement>',\n",
       "    'gt_ks': {'ds': 'fun_facts',\n",
       "     'section': 'FS2',\n",
       "     'index': 1,\n",
       "     'score': 0.55}}],\n",
       "  'gt_turn_ks': {'ds': 'fun_facts',\n",
       "   'section': 'FS2',\n",
       "   'index': 1,\n",
       "   'score': 0.51}},\n",
       " {'message': ['thats crazy.',\n",
       "   'i wonder why fresh water ones only use osmosis?'],\n",
       "  'agent': 'agent_2',\n",
       "  'segmented_annotations': [{'da': '<Statement>',\n",
       "    'gt_ks': {'ds': 'fun_facts', 'section': 'FS3', 'index': 4, 'score': 0.0}},\n",
       "   {'da': '<Statement>',\n",
       "    'gt_ks': {'ds': 'fun_facts',\n",
       "     'section': 'FS2',\n",
       "     'index': 1,\n",
       "     'score': 0.31}}],\n",
       "  'gt_turn_ks': {'ds': 'fun_facts',\n",
       "   'section': 'FS2',\n",
       "   'index': 1,\n",
       "   'score': 0.27}},\n",
       " {'message': [\"Yeah and saltwater fish are lucky because they can do that and drink through their mouth's.\"],\n",
       "  'agent': 'agent_1',\n",
       "  'segmented_annotations': [{'da': '<Statement>',\n",
       "    'gt_ks': {'ds': 'fun_facts',\n",
       "     'section': 'FS2',\n",
       "     'index': 1,\n",
       "     'score': 0.47000000000000003}}],\n",
       "  'gt_turn_ks': {'ds': 'fun_facts',\n",
       "   'section': 'FS2',\n",
       "   'index': 1,\n",
       "   'score': 0.47000000000000003}},\n",
       " {'message': ['seems like fresh water fish got the short end of the stick with that one.',\n",
       "   'Have you ever been to a cat cafe?'],\n",
       "  'agent': 'agent_2',\n",
       "  'segmented_annotations': [{'da': '<Statement>',\n",
       "    'gt_ks': {'ds': 'fun_facts', 'section': 'FS2', 'index': 1, 'score': 0.26}},\n",
       "   {'da': '<PropQ>',\n",
       "    'gt_ks': {'ds': 'wiki',\n",
       "     'section': 'FS3',\n",
       "     'start_index': 384,\n",
       "     'end_index': 460,\n",
       "     'score': 0.28}}],\n",
       "  'gt_turn_ks': {'ds': 'fun_facts',\n",
       "   'section': 'FS2',\n",
       "   'index': 1,\n",
       "   'score': 0.21}},\n",
       " {'message': ['I have never been to a cat cafe no, what about you?',\n",
       "   'Seems like they are popular in Japan and Taiwan.'],\n",
       "  'agent': 'agent_1',\n",
       "  'segmented_annotations': [{'da': '<Statement>',\n",
       "    'gt_ks': {'ds': 'wiki',\n",
       "     'section': 'FS3',\n",
       "     'start_index': 384,\n",
       "     'end_index': 460,\n",
       "     'score': 0.26}},\n",
       "   {'da': '<Statement>',\n",
       "    'gt_ks': {'ds': 'fun_facts',\n",
       "     'section': 'FS3',\n",
       "     'index': 0,\n",
       "     'score': 0.39}}],\n",
       "  'gt_turn_ks': {'ds': 'fun_facts',\n",
       "   'section': 'FS3',\n",
       "   'index': 0,\n",
       "   'score': 0.4}},\n",
       " {'message': ['no but I would love to!',\n",
       "   'paying hourly to hang out with adorable cats?',\n",
       "   'im in!'],\n",
       "  'agent': 'agent_2',\n",
       "  'segmented_annotations': [{'da': '<Statement>',\n",
       "    'gt_ks': {'ds': 'wiki',\n",
       "     'section': 'FS2',\n",
       "     'start_index': 779,\n",
       "     'end_index': 890,\n",
       "     'score': 0.04}},\n",
       "   {'da': '<Statement>',\n",
       "    'gt_ks': {'ds': 'fun_facts', 'section': 'FS3', 'index': 0, 'score': 0.37}},\n",
       "   {'da': '<Statement>',\n",
       "    'gt_ks': {'ds': 'wiki',\n",
       "     'section': 'FS2',\n",
       "     'start_index': 558,\n",
       "     'end_index': 778,\n",
       "     'score': 0.03}}],\n",
       "  'gt_turn_ks': {'ds': 'fun_facts',\n",
       "   'section': 'FS3',\n",
       "   'index': 0,\n",
       "   'score': 0.33}},\n",
       " {'message': ['Yeah that would be a lot of fun.',\n",
       "   \"I didn't realize that cats sleep so much.\",\n",
       "   'Must be nice.'],\n",
       "  'agent': 'agent_1',\n",
       "  'segmented_annotations': [{'da': '<Statement>',\n",
       "    'gt_ks': {'ds': 'fun_facts', 'section': 'FS2', 'index': 4, 'score': 0.04}},\n",
       "   {'da': '<Statement>',\n",
       "    'gt_ks': {'ds': 'fun_facts', 'section': 'FS3', 'index': 0, 'score': 0.17}},\n",
       "   {'da': '<Statement>',\n",
       "    'gt_ks': {'ds': 'fun_facts',\n",
       "     'section': 'FS2',\n",
       "     'index': 4,\n",
       "     'score': 0.04}}],\n",
       "  'gt_turn_ks': {'ds': 'fun_facts',\n",
       "   'section': 'FS3',\n",
       "   'index': 0,\n",
       "   'score': 0.11}},\n",
       " {'message': ['i guess thats where the phrase \"cat nap\" comes from'],\n",
       "  'agent': 'agent_2',\n",
       "  'segmented_annotations': [{'da': '<Statement>',\n",
       "    'gt_ks': {'ds': 'wiki',\n",
       "     'section': 'FS3',\n",
       "     'start_index': 384,\n",
       "     'end_index': 460,\n",
       "     'score': 0.19}}],\n",
       "  'gt_turn_ks': {'ds': 'wiki',\n",
       "   'section': 'FS3',\n",
       "   'start_index': 384,\n",
       "   'end_index': 460,\n",
       "   'score': 0.19}},\n",
       " {'message': ['Oh yeah I guess so ha ha.',\n",
       "   \"There's even a town in Alaska that has a mayor cat.\"],\n",
       "  'agent': 'agent_1',\n",
       "  'segmented_annotations': [{'da': '<NoDialogAct>',\n",
       "    'gt_ks': {'ds': 'fun_facts', 'section': 'FS3', 'index': 2, 'score': 0.03}},\n",
       "   {'da': '<Statement>',\n",
       "    'gt_ks': {'ds': 'fun_facts',\n",
       "     'section': 'FS3',\n",
       "     'index': 3,\n",
       "     'score': 0.56}}],\n",
       "  'gt_turn_ks': {'ds': 'fun_facts',\n",
       "   'section': 'FS3',\n",
       "   'index': 3,\n",
       "   'score': 0.34}}]"
      ]
     },
     "execution_count": 81,
     "metadata": {},
     "output_type": "execute_result"
    }
   ],
   "source": [
    "cont_tmp = train_df.iloc[2]['content']\n",
    "cont_tmp"
   ]
  },
  {
   "cell_type": "code",
   "execution_count": null,
   "metadata": {},
   "outputs": [],
   "source": []
  },
  {
   "cell_type": "markdown",
   "metadata": {},
   "source": [
    "[Back to Contents](#Table-of-Contents)"
   ]
  },
  {
   "cell_type": "markdown",
   "metadata": {},
   "source": [
    "### Chats Data"
   ]
  },
  {
   "cell_type": "code",
   "execution_count": 101,
   "metadata": {},
   "outputs": [
    {
     "name": "stdout",
     "output_type": "stream",
     "text": [
      "(10784, 1)\n"
     ]
    }
   ],
   "source": [
    "chats_datafiles = glob.glob(\"./alexa/*.json\")\n",
    "chats_df = pd.concat([pd.read_json(fp).T.drop(['config','conversation_rating'], axis=1) \n",
    "                      for fp in chats_datafiles], ignore_index=True)\n",
    "print(chats_df.shape)"
   ]
  },
  {
   "cell_type": "code",
   "execution_count": 102,
   "metadata": {},
   "outputs": [
    {
     "data": {
      "text/html": [
       "<div>\n",
       "<style scoped>\n",
       "    .dataframe tbody tr th:only-of-type {\n",
       "        vertical-align: middle;\n",
       "    }\n",
       "\n",
       "    .dataframe tbody tr th {\n",
       "        vertical-align: top;\n",
       "    }\n",
       "\n",
       "    .dataframe thead th {\n",
       "        text-align: right;\n",
       "    }\n",
       "</style>\n",
       "<table border=\"1\" class=\"dataframe\">\n",
       "  <thead>\n",
       "    <tr style=\"text-align: right;\">\n",
       "      <th></th>\n",
       "      <th>content</th>\n",
       "    </tr>\n",
       "  </thead>\n",
       "  <tbody>\n",
       "    <tr>\n",
       "      <th>0</th>\n",
       "      <td>[{'message': ['Do you know who Emily Dickson i...</td>\n",
       "    </tr>\n",
       "    <tr>\n",
       "      <th>1</th>\n",
       "      <td>[{'message': ['Did you know the richest superh...</td>\n",
       "    </tr>\n",
       "    <tr>\n",
       "      <th>2</th>\n",
       "      <td>[{'message': ['What arts do you enjoy?', 'Musi...</td>\n",
       "    </tr>\n",
       "    <tr>\n",
       "      <th>3</th>\n",
       "      <td>[{'message': ['Are you familiar with summit me...</td>\n",
       "    </tr>\n",
       "    <tr>\n",
       "      <th>4</th>\n",
       "      <td>[{'message': ['Do you watch soccer?'], 'agent'...</td>\n",
       "    </tr>\n",
       "  </tbody>\n",
       "</table>\n",
       "</div>"
      ],
      "text/plain": [
       "                                             content\n",
       "0  [{'message': ['Do you know who Emily Dickson i...\n",
       "1  [{'message': ['Did you know the richest superh...\n",
       "2  [{'message': ['What arts do you enjoy?', 'Musi...\n",
       "3  [{'message': ['Are you familiar with summit me...\n",
       "4  [{'message': ['Do you watch soccer?'], 'agent'..."
      ]
     },
     "execution_count": 102,
     "metadata": {},
     "output_type": "execute_result"
    }
   ],
   "source": [
    "chats_df.head()"
   ]
  },
  {
   "cell_type": "code",
   "execution_count": 103,
   "metadata": {
    "scrolled": true
   },
   "outputs": [
    {
     "data": {
      "text/plain": [
       "[['Do you know who Emily Dickson is?'],\n",
       " ['Emily Dickinson?',\n",
       "  'The poet?',\n",
       "  'I do!',\n",
       "  '\"Tell all the truth, but tell it slant\" she once said.',\n",
       "  'Do you like her poetry?'],\n",
       " ['Yeah she was an icon she died in 1886 at the tender age of 55.'],\n",
       " ['Though she was reclusive, she lived an interesting 55 years.',\n",
       "  'Do you know much about her life?'],\n",
       " ['I did not unfortunately!',\n",
       "  'I hear over the years she shared at least 250 poems with Susan her close friend before marrying Austin.'],\n",
       " ['Yes.',\n",
       "  'she wrote hundreds and hundreds of poems, but they were locked away in a drawer, and a critic said that there were many arresting phrases, nothing scanned or rhymed properly, and so he declined to help get them published.'],\n",
       " ['Did you kow theres a poem when read normally is depressing but when read backward is uplifting?'],\n",
       " ['Wow!',\n",
       "  \"That is certainly different than Emily's poetry.\",\n",
       "  \"There's such a diversity in poetry.\",\n",
       "  \"It's no surprise, since poetry dates back to prehistorical times.\",\n",
       "  'Did you know some of the first poetry was hunting poetry in Africa?'],\n",
       " ['Yes and and extensively throughout the history of the empire of the Nile, Niger and Volta river valleys.'],\n",
       " ['Yes.',\n",
       "  'Some of the earliest written poetry in Africa is found among Pyramid texts, written during the 25th century, BCE!',\n",
       "  'Of course, poetry spread throughout the world, too.'],\n",
       " ['Wow i did not know that.',\n",
       "  'Edgar Allen Poe received 9.00 for the raven,can you believe that?'],\n",
       " ['Just $9?',\n",
       "  'You know, art, music, and poetry were once Olympic sports?',\n",
       "  'Can you imagine Edgar Allen Poe as an Olympian?'],\n",
       " ['I can not but the fact that those parts of our culture use to be in the Olympics is amazing.',\n",
       "  'They should bring that back.'],\n",
       " ['Yes, poetry does seem to have lost some respect.',\n",
       "  'In the past, the Vikings were warrior-poets, and poetry was considered a gift from Odin himself.'],\n",
       " [\"Now that's interesting.\", 'Homers Odyssey was one of my favorites.'],\n",
       " ['Ah yes!',\n",
       "  \"Quite an epic, isn't it?\",\n",
       "  'And Homer wrote the Iliad, as well.'],\n",
       " ['Bringing back so many memories, i think i might listen to that soon.',\n",
       "  'Demetri Martin wrote a 224 word palindrome poem.'],\n",
       " ['Funny!',\n",
       "  'You really can do so much with poetry!',\n",
       "  \"There's also a poem that's 274 lines, and features about 800 irregularly pronounced English words.\",\n",
       "  \"It's called The Chaos.\",\n",
       "  \"I'd like hear that one read out loud!\"],\n",
       " ['Yeah that seems like the right name for it.',\n",
       "  'Do you listen to or play the piano?'],\n",
       " ['Funny you should ask!',\n",
       "  'I was just going to ask if you knew that they used to call typewriters \"literary pianos\"!',\n",
       "  \"Isn't that funny?\",\n",
       "  'I like to bang on the keyboard every now and then!',\n",
       "  'What about you?'],\n",
       " [\"That's all i do is bang on them while missing the keys i'm aiming for, lol!\",\n",
       "  'Nice chatting with you.'],\n",
       " [\"Good thing you're not playing on an old steam piano!\",\n",
       "  \"They'd hear you for miles around!\",\n",
       "  'Goodbye!'],\n",
       " ['Well maybe not on Mars, haha, Goodbye.']]"
      ]
     },
     "execution_count": 103,
     "metadata": {},
     "output_type": "execute_result"
    }
   ],
   "source": [
    "[ic['message'] for ic in chats_df.iloc[0]['content']]"
   ]
  },
  {
   "cell_type": "code",
   "execution_count": null,
   "metadata": {},
   "outputs": [],
   "source": []
  },
  {
   "cell_type": "markdown",
   "metadata": {},
   "source": [
    "[Back to Contents](#Table-of-Contents)"
   ]
  },
  {
   "cell_type": "markdown",
   "metadata": {},
   "source": [
    "### Talking Points Data"
   ]
  },
  {
   "cell_type": "code",
   "execution_count": 104,
   "metadata": {},
   "outputs": [],
   "source": [
    "#https://github.com/alexa/Topical-Chat/blob/master/src/wiki/wiki.json\n",
    "with open(\"alexa/wiki/wiki.json\", \"r\") as f:\n",
    "    wiki_data = json.load(f)\n",
    "    shortened_wiki_lead_section = wiki_data['shortened_wiki_lead_section']\n",
    "    summarized_wiki_lead_section = wiki_data['summarized_wiki_lead_section']"
   ]
  },
  {
   "cell_type": "code",
   "execution_count": 105,
   "metadata": {},
   "outputs": [],
   "source": [
    "talking_points = list(shortened_wiki_lead_section.keys())"
   ]
  },
  {
   "cell_type": "code",
   "execution_count": 106,
   "metadata": {},
   "outputs": [
    {
     "data": {
      "text/plain": [
       "['A horror film is a film that seeks to elicit fear. Initially inspired by literature from authors like Edgar Allan Poe, Bram Stoker, and Mary Shelley, horror has existed as a film genre for more than a century. The macabre and the supernatural are frequent themes. Horror may also overlap with the fantasy, supernatural fiction, and thriller genres.',\n",
       " 'A soundtrack, also written sound track, can be recorded music accompanying and synchronized to the images of a motion picture, book, television program, or video game; a commercially released soundtrack album of music as featured in the soundtrack of a film, video, or television presentation; or the physical area of a film that contains the synchronized recorded sound.',\n",
       " 'An album is a collection of audio recordings issued as a collection on compact disc (CD), vinyl, audio tape, or another medium. Albums of recorded music were developed in the early 20th century as individual 78-rpm records collected in a bound book resembling a photograph album; this format evolved after 1948 into single vinyl LP records  played at \\u200b33 1⁄3 rpm. Vinyl LPs are still issued, though album sales in the 21st-century have mostly focused on CD and MP3 formats. The audio cassette was a format used alongside vinyl from the 1970s into the first decade of the 2000s.',\n",
       " 'The president is a common title for the head of state in most republics. In politics, president is a title given to leaders of republican states.\\nThe functions exercised by a president vary according to the form of government. In parliamentary republics, they are limited to those of the head of state, and are thus largely ceremonial. In presidential and semi-presidential republics, the role of the president is more prominent, encompassing also (in most cases) the functions of the head of government. In authoritarian regimes, a dictator or leader of a one-party state may also be called a president.',\n",
       " 'The United States Senate is the upper chamber of the United States Congress, which along with the United States House of Representatives—the lower chamber—comprises the legislature of the United States.\\nThe composition and powers of the Senate are established by Article One of the United States Constitution.  The Senate is composed of senators, each of whom represents a single state in its entirety, with each state being equally represented by two senators, regardless of its population, serving staggered terms of six years; with 50 states currently in the Union, there are 100 U.S. Senators. From 1789 until 1913, Senators were appointed by legislatures of the states they represented; following the ratification of the Seventeenth Amendment in 1913, they are now popularly elected.  The Senate chamber is located in the north wing of the Capitol, in Washington, D.C.']"
      ]
     },
     "execution_count": 106,
     "metadata": {},
     "output_type": "execute_result"
    }
   ],
   "source": [
    "talking_points[:5]"
   ]
  },
  {
   "cell_type": "markdown",
   "metadata": {},
   "source": [
    "[Back to Contents](#Table-of-Contents)"
   ]
  },
  {
   "cell_type": "markdown",
   "metadata": {},
   "source": [
    "## A First Glance at Chats"
   ]
  },
  {
   "cell_type": "code",
   "execution_count": 156,
   "metadata": {
    "scrolled": true
   },
   "outputs": [
    {
     "data": {
      "text/plain": [
       "['What arts do you enjoy? Music? Poetry?',\n",
       " 'Hi there. I was an English major in college, so even though I took a lot of literature classes, I appreciate poetry, too. What about you?',\n",
       " 'I took some poetry in high school and I still remember learning about palindromes',\n",
       " \"Did you know that the comedian Demetri Martin wrote a 224-word palindrome poem? That's a lot of thinking and reading backwards!\",\n",
       " \"I can't even begin to comprehend how it would go\",\n",
       " \"There is also a poem that when read normally is depressing, but when read backwards is inspiring. I think that's impressive, as well.\",\n",
       " 'I think that in itself is pretty inspiring',\n",
       " 'Yes, some works of poetry like the Epic of Gilgamesh are pretty, well, epic, for lack of a better word haha. They try to take you to another time and place.',\n",
       " 'It is pretty amazing how literature allows us to build worlds within our minds',\n",
       " \"Speaking of other worlds, isn't it crazy how much we've learned about Mars, to the point where there's a colonization project planned for 2023?\",\n",
       " \"Didn't the plan to colonize mars recently get canceled?\",\n",
       " \"Apparently this colonization is being funded by a reality TV show, although who knows if it is actually a viable idea. Science and entertainment aren't always the best marriage.\",\n",
       " \"I mean when a single mistake can kill you, I don't think a reality tv show environment is conducive either\",\n",
       " \"It's really one of the lower forms of entertainments--definitely not up there with classical piano and such elevated forms of artistic expression. Do you like piano music?\",\n",
       " 'I wonder if linchens and cyanobactera were planted on mars by people, would they evolve into new life forms?',\n",
       " 'I bet the amount of time it would take for that would be longer than life on Earth would be around to observe it haha.',\n",
       " 'Perhaps. I hope when they colonize mars they would at least bring along a piano',\n",
       " 'Yes, although it it a luxury item that would probably increase the payload too much to be practical. Also, due to atmospheric differences, the sounds it creates would have a higher pitch on Mars.',\n",
       " 'Perhaps they would make it somehow there? I mean people a piano on the highest mountain peak in the uk.',\n",
       " 'The British can be pretty crazy. On April 18, 1930, the BBC broadcast piano music because they decided there was no news worth reporting.',\n",
       " \"I wouldn't say that is crazy. Piano music is just that good. It has actually been used to deter crime successfully in public spaces\",\n",
       " \"That's interesting. They've had about 300 years to perfect it since it was invented in Italy around 1700, so I hope it would be good!\",\n",
       " 'Indeed. In any case, thank you for the pleasant chat. Hope you have a wonderful day.']"
      ]
     },
     "execution_count": 156,
     "metadata": {},
     "output_type": "execute_result"
    }
   ],
   "source": [
    "cT_example = [' '.join(ic['message']) for ic in chats_df.iloc[2]['content']]\n",
    "cT_example"
   ]
  },
  {
   "cell_type": "code",
   "execution_count": null,
   "metadata": {},
   "outputs": [],
   "source": []
  },
  {
   "cell_type": "markdown",
   "metadata": {},
   "source": [
    "[Back to Contents](#Table-of-Contents)"
   ]
  },
  {
   "cell_type": "markdown",
   "metadata": {},
   "source": [
    "## Pre-Trained Sentence Encoder"
   ]
  },
  {
   "cell_type": "code",
   "execution_count": null,
   "metadata": {},
   "outputs": [],
   "source": [
    "#https://www.sbert.net/docs/installation.html\n",
    "\n",
    "#these lines below are example for downloading pre-trained models\n",
    "#embed_bert = SentenceTransformer('paraphrase-xlm-r-multilingual-v1')\n",
    "#embed_bert = SentenceTransformer('stsb-roberta-large') #textual similarity\n",
    "\n",
    "#the models are downloaded to here\n",
    "#/Users/atambu310/.cache/torch/sentence_transformers/sbert.net_models_paraphrase-xlm-r-multilingual-v1_part\n",
    "#copy to desired folder, ex: ./models"
   ]
  },
  {
   "cell_type": "markdown",
   "metadata": {},
   "source": [
    "### Example of Using Encoder"
   ]
  },
  {
   "cell_type": "code",
   "execution_count": 107,
   "metadata": {},
   "outputs": [
    {
     "name": "stdout",
     "output_type": "stream",
     "text": [
      "The cat sits outside \t\t The dog plays in the garden \t\t Score: 0.3065\n",
      "A man is playing guitar \t\t A woman watches TV \t\t Score: 0.2188\n",
      "The new movie is awesome \t\t The new movie is so great \t\t Score: 0.9821\n"
     ]
    }
   ],
   "source": [
    "# this is equivalent to Google Universal Sentence Encoder\n",
    "embed_bert = SentenceTransformer('./models/sbert.net_models_._distiluse-base-multilingual-cased-v2')\n",
    "\n",
    "# Two lists of sentences\n",
    "sentences1 = ['The cat sits outside',\n",
    "             'A man is playing guitar',\n",
    "             'The new movie is awesome']\n",
    "\n",
    "sentences2 = ['The dog plays in the garden',\n",
    "              'A woman watches TV',\n",
    "              'The new movie is so great']\n",
    "\n",
    "#Compute embedding for both lists\n",
    "embeddings1 = embed_bert.encode(sentences1, convert_to_tensor=True)\n",
    "embeddings2 = embed_bert.encode(sentences2, convert_to_tensor=True)\n",
    "\n",
    "#Compute cosine-similarits\n",
    "cosine_scores = util.pytorch_cos_sim(embeddings1, embeddings2)\n",
    "\n",
    "#Output the pairs with their score\n",
    "for i in range(len(sentences1)):\n",
    "    print(\"{} \\t\\t {} \\t\\t Score: {:.4f}\".format(sentences1[i], sentences2[i], cosine_scores[i][i]))"
   ]
  },
  {
   "cell_type": "code",
   "execution_count": 108,
   "metadata": {},
   "outputs": [
    {
     "data": {
      "text/plain": [
       "array([[0.97768307]], dtype=float32)"
      ]
     },
     "execution_count": 108,
     "metadata": {},
     "output_type": "execute_result"
    }
   ],
   "source": [
    "#lower-casing or space removal are not needed with this model. Apparently, some preproc\n",
    "#is performed internally to the model\n",
    "\n",
    "util.pytorch_cos_sim(embed_bert.encode([\"With the Wifi Gateway, you'll get access to our simple and digital xFi dashboard.\"], convert_to_tensor=True), \n",
    "                     embed_bert.encode([\"with the wi-fi gateway, you will get access to our simple and digital xFi dashboard.\"], convert_to_tensor=True)).detach().cpu().numpy()"
   ]
  },
  {
   "cell_type": "markdown",
   "metadata": {},
   "source": [
    "### Using Encoder on Chats"
   ]
  },
  {
   "cell_type": "code",
   "execution_count": 157,
   "metadata": {},
   "outputs": [],
   "source": [
    "scores = []\n",
    "for ic in cT_example[9:10]:\n",
    "    #print(ic)\n",
    "    for it in talking_points:\n",
    "        #print(it)\n",
    "        ic_it_dist = util.pytorch_cos_sim(embed_bert.encode([ic], convert_to_tensor=True), \n",
    "                                          embed_bert.encode([it], convert_to_tensor=True)).detach().cpu().numpy()\n",
    "        scores.append(float(ic_it_dist))"
   ]
  },
  {
   "cell_type": "code",
   "execution_count": 158,
   "metadata": {},
   "outputs": [],
   "source": [
    "best_score_idx = np.argmax(scores)"
   ]
  },
  {
   "cell_type": "code",
   "execution_count": 159,
   "metadata": {},
   "outputs": [
    {
     "data": {
      "text/plain": [
       "0.36937442421913147"
      ]
     },
     "execution_count": 159,
     "metadata": {},
     "output_type": "execute_result"
    }
   ],
   "source": [
    "scores[best_score_idx]"
   ]
  },
  {
   "cell_type": "code",
   "execution_count": 160,
   "metadata": {},
   "outputs": [
    {
     "data": {
      "text/plain": [
       "'Mars is the fourth planet from the Sun and the second-smallest planet in the Solar System after Mercury. In English, Mars carries a name of the Roman god of war, and is often referred to as the \"Red Planet\" because the reddish iron oxide prevalent on its surface gives it a reddish appearance that is distinctive among the astronomical bodies visible to the naked eye. Mars is a terrestrial planet with a thin atmosphere, having surface features reminiscent both of the impact craters of the Moon and the valleys, deserts, and polar ice caps of Earth.'"
      ]
     },
     "execution_count": 160,
     "metadata": {},
     "output_type": "execute_result"
    }
   ],
   "source": [
    "talking_points[best_score_idx]"
   ]
  },
  {
   "cell_type": "markdown",
   "metadata": {},
   "source": [
    "[Back to Contents](#Table-of-Contents)"
   ]
  },
  {
   "cell_type": "markdown",
   "metadata": {},
   "source": [
    "## Data Processing"
   ]
  },
  {
   "cell_type": "code",
   "execution_count": 220,
   "metadata": {
    "code_folding": [
     3,
     18,
     37
    ]
   },
   "outputs": [],
   "source": [
    "@ray.remote\n",
    "class processText:\n",
    "        \n",
    "    def __init__(self):\n",
    "        \n",
    "        import tensorflow as tf\n",
    "        import tensorflow_hub as hub\n",
    "        import tensorflow_text #needed to avoid crashes    \n",
    "        \n",
    "        self.texts = ray.get(texts_ray)\n",
    "        \n",
    "        print('loading model')\n",
    "        self.embed = SentenceTransformer('./models/sbert.net_models_._distiluse-base-multilingual-cased-v2')\n",
    "        print('loading model...done')\n",
    "\n",
    "        self.talking_points_emb = self.embed.encode(ray.get(talking_points_ray), convert_to_tensor=True)\n",
    "\n",
    "        \n",
    "    def clean_sentences(self, cT):\n",
    "\n",
    "        #create list of sentences from text                \n",
    "        #cT = [s.lower() for s in cT] #lower case\n",
    "        cT = [\" \".join([w for w in s.split() if len(s.split())>5]) for s in cT]  #extra spaces, at least 5 words\n",
    "\n",
    "        if len(cT)==0:\n",
    "            return []\n",
    "\n",
    "        if len(cT)<3: # at least 3 sentences\n",
    "            return []\n",
    "        else:\n",
    "            return cT\n",
    "    \n",
    "    \n",
    "    def get_points(self, text_idxs, phrase_thr=0.60):\n",
    "\n",
    "        is_talking_points = {}\n",
    "        \n",
    "        print('start', text_idxs)\n",
    "        \n",
    "        for i in range(text_idxs[0], text_idxs[1]): \n",
    "            \n",
    "            cT = self.texts[i]\n",
    "            cT = self.clean_sentences(cT)\n",
    "            \n",
    "            if len(cT)==0:\n",
    "                continue\n",
    "\n",
    "            emb_cT_i = self.embed.encode(cT, convert_to_tensor=True)\n",
    "            # similarity \n",
    "            sim_mat = util.pytorch_cos_sim(emb_cT_i,\n",
    "                                           self.talking_points_emb).detach().cpu().numpy()\n",
    "            \n",
    "            # loop over individual sentences and check similarity to each of the phrases    \n",
    "            #best_match = np.unravel_index(np.argmax(sim_mat, axis=None), sim_mat.shape)\n",
    "            #best_match_value = sim_mat[best_match]\n",
    "            #if best_match_value>phrase_thr:\n",
    "            #    is_talking_points.update({(i,cT[best_match[0]]): [(best_match[1], best_match_value)]})\n",
    "            \n",
    "            # for each sentence find matching phrases above threshold. \n",
    "            # In a chat mutiple talking points can be mentioned\n",
    "            for j in range(sim_mat.shape[0]):\n",
    "                sim_idx = np.where(sim_mat[j,]>phrase_thr)[0]\n",
    "                sim_values = [(k, sim_mat[j,k]) for k in sim_idx] # this is for debugging purposes, later just select best matching phrase\n",
    "                if len(sim_idx)>0:\n",
    "                    is_talking_points.update({(i,cT[j]): sim_values})\n",
    "            \n",
    "\n",
    "        print('end', text_idxs)\n",
    "        \n",
    "        return is_talking_points\n",
    "    "
   ]
  },
  {
   "cell_type": "code",
   "execution_count": 213,
   "metadata": {},
   "outputs": [],
   "source": [
    "ray.shutdown()"
   ]
  },
  {
   "cell_type": "markdown",
   "metadata": {},
   "source": [
    "[Back to Contents](#Table-of-Contents)"
   ]
  },
  {
   "cell_type": "markdown",
   "metadata": {},
   "source": [
    "### Processing Chats"
   ]
  },
  {
   "cell_type": "code",
   "execution_count": 201,
   "metadata": {},
   "outputs": [],
   "source": [
    "all_chats = []\n",
    "for i in chats_df['content'].values[:10] :\n",
    "    all_chats_tmp = []\n",
    "    for j in i:\n",
    "        all_chats_tmp.append(' '.join(j['message']))\n",
    "    all_chats.append(all_chats_tmp)"
   ]
  },
  {
   "cell_type": "code",
   "execution_count": 205,
   "metadata": {},
   "outputs": [
    {
     "data": {
      "text/plain": [
       "['Did you know the richest superhero is black panther?',\n",
       " 'Is that the character in the 2018 film, or the actor who played the role?',\n",
       " 'I think it is the character. I will check closer.',\n",
       " 'Okay. Have you seen the film? Heard it was nominated for Oscars...',\n",
       " \"I haven't yet but I plan to.\",\n",
       " 'Me, too. Understand that symbols and script were based on 4th century Nigerian story. Costume designer won an Oscar, I think...deserved to, at least...',\n",
       " 'Interesting. Costume designing would be a fun occupation.',\n",
       " 'Agree. One young star in the film, Chadwick Boseman, was sponsored to an Oxford, England theater program by a \"private benefactor\". Turned out to be the great actor, Denzel Washington. Fun fact?',\n",
       " 'Wow! That is interesting.',\n",
       " 'Glad script made black panther richest superhero, over characters like Tony Stark (Iron Man) and Bruce Wayne (Batman). Why not? ?',\n",
       " 'True! If you want a superhero make him really rich.',\n",
       " \"And of noble ancestry! This nearly all-black film is possibly the biggest performance work to come along since Gershwin's black folk opera, Porgy & Bess. That was produced in the 1940's! About time? ?\",\n",
       " \"That's amazing.\",\n",
       " 'Yes. Disney Studios owes something to the black community, too. In the 50\\'s, Disney did a really prejudiced film about blacks called \"Song of the South\". Ever see it? ?',\n",
       " 'There were so many racists shows back in the day. Never saw that one.',\n",
       " \"True!! You didn't miss anything. Marvel Comics character was not named after the 70's Black Panther Party, though studio almost called film, Black Leopard.\",\n",
       " \"That doesn't sound as scary.\",\n",
       " \"You're right! Don't think there are black leopards, are there? ?\",\n",
       " \"LOL I don't know. You wouldn't be able to see their spots.\",\n",
       " 'True. Have a \"panther\" of sorts in my own house, snuggled by my feet at the moment. American shorthair with tiger stripes & leopard-yellow eyes. About 5 months old...Do you like cats?',\n",
       " 'I like all animals. I dog sit a lot lately. It was nice chatting with you. I hope you have a nice day.']"
      ]
     },
     "execution_count": 205,
     "metadata": {},
     "output_type": "execute_result"
    }
   ],
   "source": [
    "all_chats[1]"
   ]
  },
  {
   "cell_type": "code",
   "execution_count": 221,
   "metadata": {
    "scrolled": true
   },
   "outputs": [
    {
     "name": "stdout",
     "output_type": "stream",
     "text": [
      "Processing 10 chats\n"
     ]
    },
    {
     "name": "stderr",
     "output_type": "stream",
     "text": [
      "2021-04-20 16:57:46,893\tINFO services.py:1173 -- View the Ray dashboard at \u001b[1m\u001b[32mhttp://127.0.0.1:8265\u001b[39m\u001b[22m\n",
      "2021-04-20 16:57:50,333\tWARNING worker.py:1034 -- The agent on node HQSML-1689941 failed with the following error:\n",
      "Traceback (most recent call last):\n",
      "  File \"/Users/atambu310/anaconda3/lib/python3.7/site-packages/ray/new_dashboard/agent.py\", line 306, in <module>\n",
      "    loop.run_until_complete(agent.run())\n",
      "  File \"/Users/atambu310/anaconda3/lib/python3.7/asyncio/base_events.py\", line 584, in run_until_complete\n",
      "    return future.result()\n",
      "  File \"/Users/atambu310/anaconda3/lib/python3.7/site-packages/ray/new_dashboard/agent.py\", line 131, in run\n",
      "    modules = self._load_modules()\n",
      "  File \"/Users/atambu310/anaconda3/lib/python3.7/site-packages/ray/new_dashboard/agent.py\", line 86, in _load_modules\n",
      "    c = cls(self)\n",
      "  File \"/Users/atambu310/anaconda3/lib/python3.7/site-packages/ray/new_dashboard/modules/reporter/reporter_agent.py\", line 72, in __init__\n",
      "    self._metrics_agent = MetricsAgent(dashboard_agent.metrics_export_port)\n",
      "  File \"/Users/atambu310/anaconda3/lib/python3.7/site-packages/ray/metrics_agent.py\", line 42, in __init__\n",
      "    namespace=\"ray\", port=metrics_export_port)))\n",
      "  File \"/Users/atambu310/anaconda3/lib/python3.7/site-packages/ray/prometheus_exporter.py\", line 334, in new_stats_exporter\n",
      "    options=option, gatherer=option.registry, collector=collector)\n",
      "  File \"/Users/atambu310/anaconda3/lib/python3.7/site-packages/ray/prometheus_exporter.py\", line 266, in __init__\n",
      "    self.serve_http()\n",
      "  File \"/Users/atambu310/anaconda3/lib/python3.7/site-packages/ray/prometheus_exporter.py\", line 321, in serve_http\n",
      "    port=self.options.port, addr=str(self.options.address))\n",
      "  File \"/Users/atambu310/anaconda3/lib/python3.7/site-packages/prometheus_client/exposition.py\", line 193, in start_http_server\n",
      "    httpd = _ThreadingSimpleServer((addr, port), CustomMetricsHandler)\n",
      "  File \"/Users/atambu310/anaconda3/lib/python3.7/socketserver.py\", line 452, in __init__\n",
      "    self.server_bind()\n",
      "  File \"/Users/atambu310/anaconda3/lib/python3.7/http/server.py\", line 137, in server_bind\n",
      "    socketserver.TCPServer.server_bind(self)\n",
      "  File \"/Users/atambu310/anaconda3/lib/python3.7/socketserver.py\", line 466, in server_bind\n",
      "    self.socket.bind(self.server_address)\n",
      "OSError: [Errno 48] Address already in use\n",
      "\n",
      "\u001b[2m\u001b[33m(pid=raylet)\u001b[0m Traceback (most recent call last):\n",
      "\u001b[2m\u001b[33m(pid=raylet)\u001b[0m   File \"/Users/atambu310/anaconda3/lib/python3.7/site-packages/ray/new_dashboard/agent.py\", line 317, in <module>\n",
      "\u001b[2m\u001b[33m(pid=raylet)\u001b[0m     raise e\n",
      "\u001b[2m\u001b[33m(pid=raylet)\u001b[0m   File \"/Users/atambu310/anaconda3/lib/python3.7/site-packages/ray/new_dashboard/agent.py\", line 306, in <module>\n",
      "\u001b[2m\u001b[33m(pid=raylet)\u001b[0m     loop.run_until_complete(agent.run())\n",
      "\u001b[2m\u001b[33m(pid=raylet)\u001b[0m   File \"/Users/atambu310/anaconda3/lib/python3.7/asyncio/base_events.py\", line 584, in run_until_complete\n",
      "\u001b[2m\u001b[33m(pid=raylet)\u001b[0m     return future.result()\n",
      "\u001b[2m\u001b[33m(pid=raylet)\u001b[0m   File \"/Users/atambu310/anaconda3/lib/python3.7/site-packages/ray/new_dashboard/agent.py\", line 131, in run\n",
      "\u001b[2m\u001b[33m(pid=raylet)\u001b[0m     modules = self._load_modules()\n",
      "\u001b[2m\u001b[33m(pid=raylet)\u001b[0m   File \"/Users/atambu310/anaconda3/lib/python3.7/site-packages/ray/new_dashboard/agent.py\", line 86, in _load_modules\n",
      "\u001b[2m\u001b[33m(pid=raylet)\u001b[0m     c = cls(self)\n",
      "\u001b[2m\u001b[33m(pid=raylet)\u001b[0m   File \"/Users/atambu310/anaconda3/lib/python3.7/site-packages/ray/new_dashboard/modules/reporter/reporter_agent.py\", line 72, in __init__\n",
      "\u001b[2m\u001b[33m(pid=raylet)\u001b[0m     self._metrics_agent = MetricsAgent(dashboard_agent.metrics_export_port)\n",
      "\u001b[2m\u001b[33m(pid=raylet)\u001b[0m   File \"/Users/atambu310/anaconda3/lib/python3.7/site-packages/ray/metrics_agent.py\", line 42, in __init__\n",
      "\u001b[2m\u001b[33m(pid=raylet)\u001b[0m     namespace=\"ray\", port=metrics_export_port)))\n",
      "\u001b[2m\u001b[33m(pid=raylet)\u001b[0m   File \"/Users/atambu310/anaconda3/lib/python3.7/site-packages/ray/prometheus_exporter.py\", line 334, in new_stats_exporter\n",
      "\u001b[2m\u001b[33m(pid=raylet)\u001b[0m     options=option, gatherer=option.registry, collector=collector)\n",
      "\u001b[2m\u001b[33m(pid=raylet)\u001b[0m   File \"/Users/atambu310/anaconda3/lib/python3.7/site-packages/ray/prometheus_exporter.py\", line 266, in __init__\n",
      "\u001b[2m\u001b[33m(pid=raylet)\u001b[0m     self.serve_http()\n",
      "\u001b[2m\u001b[33m(pid=raylet)\u001b[0m   File \"/Users/atambu310/anaconda3/lib/python3.7/site-packages/ray/prometheus_exporter.py\", line 321, in serve_http\n",
      "\u001b[2m\u001b[33m(pid=raylet)\u001b[0m     port=self.options.port, addr=str(self.options.address))\n",
      "\u001b[2m\u001b[33m(pid=raylet)\u001b[0m   File \"/Users/atambu310/anaconda3/lib/python3.7/site-packages/prometheus_client/exposition.py\", line 193, in start_http_server\n",
      "\u001b[2m\u001b[33m(pid=raylet)\u001b[0m     httpd = _ThreadingSimpleServer((addr, port), CustomMetricsHandler)\n",
      "\u001b[2m\u001b[33m(pid=raylet)\u001b[0m   File \"/Users/atambu310/anaconda3/lib/python3.7/socketserver.py\", line 452, in __init__\n",
      "\u001b[2m\u001b[33m(pid=raylet)\u001b[0m     self.server_bind()\n",
      "\u001b[2m\u001b[33m(pid=raylet)\u001b[0m   File \"/Users/atambu310/anaconda3/lib/python3.7/http/server.py\", line 137, in server_bind\n",
      "\u001b[2m\u001b[33m(pid=raylet)\u001b[0m     socketserver.TCPServer.server_bind(self)\n",
      "\u001b[2m\u001b[33m(pid=raylet)\u001b[0m   File \"/Users/atambu310/anaconda3/lib/python3.7/socketserver.py\", line 466, in server_bind\n",
      "\u001b[2m\u001b[33m(pid=raylet)\u001b[0m     self.socket.bind(self.server_address)\n",
      "\u001b[2m\u001b[33m(pid=raylet)\u001b[0m OSError: [Errno 48] Address already in use\n",
      "2021-04-20 16:57:54,304\tWARNING worker.py:1034 -- The agent on node HQSML-1689941 failed with the following error:\n",
      "Traceback (most recent call last):\n",
      "  File \"/Users/atambu310/anaconda3/lib/python3.7/site-packages/ray/new_dashboard/agent.py\", line 306, in <module>\n",
      "    loop.run_until_complete(agent.run())\n",
      "  File \"/Users/atambu310/anaconda3/lib/python3.7/asyncio/base_events.py\", line 584, in run_until_complete\n",
      "    return future.result()\n",
      "  File \"/Users/atambu310/anaconda3/lib/python3.7/site-packages/ray/new_dashboard/agent.py\", line 131, in run\n",
      "    modules = self._load_modules()\n",
      "  File \"/Users/atambu310/anaconda3/lib/python3.7/site-packages/ray/new_dashboard/agent.py\", line 86, in _load_modules\n",
      "    c = cls(self)\n",
      "  File \"/Users/atambu310/anaconda3/lib/python3.7/site-packages/ray/new_dashboard/modules/reporter/reporter_agent.py\", line 72, in __init__\n",
      "    self._metrics_agent = MetricsAgent(dashboard_agent.metrics_export_port)\n",
      "  File \"/Users/atambu310/anaconda3/lib/python3.7/site-packages/ray/metrics_agent.py\", line 42, in __init__\n",
      "    namespace=\"ray\", port=metrics_export_port)))\n",
      "  File \"/Users/atambu310/anaconda3/lib/python3.7/site-packages/ray/prometheus_exporter.py\", line 334, in new_stats_exporter\n",
      "    options=option, gatherer=option.registry, collector=collector)\n",
      "  File \"/Users/atambu310/anaconda3/lib/python3.7/site-packages/ray/prometheus_exporter.py\", line 266, in __init__\n",
      "    self.serve_http()\n",
      "  File \"/Users/atambu310/anaconda3/lib/python3.7/site-packages/ray/prometheus_exporter.py\", line 321, in serve_http\n",
      "    port=self.options.port, addr=str(self.options.address))\n",
      "  File \"/Users/atambu310/anaconda3/lib/python3.7/site-packages/prometheus_client/exposition.py\", line 193, in start_http_server\n",
      "    httpd = _ThreadingSimpleServer((addr, port), CustomMetricsHandler)\n",
      "  File \"/Users/atambu310/anaconda3/lib/python3.7/socketserver.py\", line 452, in __init__\n",
      "    self.server_bind()\n",
      "  File \"/Users/atambu310/anaconda3/lib/python3.7/http/server.py\", line 137, in server_bind\n",
      "    socketserver.TCPServer.server_bind(self)\n",
      "  File \"/Users/atambu310/anaconda3/lib/python3.7/socketserver.py\", line 466, in server_bind\n",
      "    self.socket.bind(self.server_address)\n",
      "OSError: [Errno 48] Address already in use\n",
      "\n",
      "\u001b[2m\u001b[33m(pid=raylet)\u001b[0m Traceback (most recent call last):\n",
      "\u001b[2m\u001b[33m(pid=raylet)\u001b[0m   File \"/Users/atambu310/anaconda3/lib/python3.7/site-packages/ray/new_dashboard/agent.py\", line 317, in <module>\n",
      "\u001b[2m\u001b[33m(pid=raylet)\u001b[0m     raise e\n",
      "\u001b[2m\u001b[33m(pid=raylet)\u001b[0m   File \"/Users/atambu310/anaconda3/lib/python3.7/site-packages/ray/new_dashboard/agent.py\", line 306, in <module>\n",
      "\u001b[2m\u001b[33m(pid=raylet)\u001b[0m     loop.run_until_complete(agent.run())\n",
      "\u001b[2m\u001b[33m(pid=raylet)\u001b[0m   File \"/Users/atambu310/anaconda3/lib/python3.7/asyncio/base_events.py\", line 584, in run_until_complete\n",
      "\u001b[2m\u001b[33m(pid=raylet)\u001b[0m     return future.result()\n",
      "\u001b[2m\u001b[33m(pid=raylet)\u001b[0m   File \"/Users/atambu310/anaconda3/lib/python3.7/site-packages/ray/new_dashboard/agent.py\", line 131, in run\n",
      "\u001b[2m\u001b[33m(pid=raylet)\u001b[0m     modules = self._load_modules()\n",
      "\u001b[2m\u001b[33m(pid=raylet)\u001b[0m   File \"/Users/atambu310/anaconda3/lib/python3.7/site-packages/ray/new_dashboard/agent.py\", line 86, in _load_modules\n",
      "\u001b[2m\u001b[33m(pid=raylet)\u001b[0m     c = cls(self)\n",
      "\u001b[2m\u001b[33m(pid=raylet)\u001b[0m   File \"/Users/atambu310/anaconda3/lib/python3.7/site-packages/ray/new_dashboard/modules/reporter/reporter_agent.py\", line 72, in __init__\n",
      "\u001b[2m\u001b[33m(pid=raylet)\u001b[0m     self._metrics_agent = MetricsAgent(dashboard_agent.metrics_export_port)\n",
      "\u001b[2m\u001b[33m(pid=raylet)\u001b[0m   File \"/Users/atambu310/anaconda3/lib/python3.7/site-packages/ray/metrics_agent.py\", line 42, in __init__\n",
      "\u001b[2m\u001b[33m(pid=raylet)\u001b[0m     namespace=\"ray\", port=metrics_export_port)))\n",
      "\u001b[2m\u001b[33m(pid=raylet)\u001b[0m   File \"/Users/atambu310/anaconda3/lib/python3.7/site-packages/ray/prometheus_exporter.py\", line 334, in new_stats_exporter\n",
      "\u001b[2m\u001b[33m(pid=raylet)\u001b[0m     options=option, gatherer=option.registry, collector=collector)\n",
      "\u001b[2m\u001b[33m(pid=raylet)\u001b[0m   File \"/Users/atambu310/anaconda3/lib/python3.7/site-packages/ray/prometheus_exporter.py\", line 266, in __init__\n",
      "\u001b[2m\u001b[33m(pid=raylet)\u001b[0m     self.serve_http()\n",
      "\u001b[2m\u001b[33m(pid=raylet)\u001b[0m   File \"/Users/atambu310/anaconda3/lib/python3.7/site-packages/ray/prometheus_exporter.py\", line 321, in serve_http\n",
      "\u001b[2m\u001b[33m(pid=raylet)\u001b[0m     port=self.options.port, addr=str(self.options.address))\n",
      "\u001b[2m\u001b[33m(pid=raylet)\u001b[0m   File \"/Users/atambu310/anaconda3/lib/python3.7/site-packages/prometheus_client/exposition.py\", line 193, in start_http_server\n",
      "\u001b[2m\u001b[33m(pid=raylet)\u001b[0m     httpd = _ThreadingSimpleServer((addr, port), CustomMetricsHandler)\n",
      "\u001b[2m\u001b[33m(pid=raylet)\u001b[0m   File \"/Users/atambu310/anaconda3/lib/python3.7/socketserver.py\", line 452, in __init__\n",
      "\u001b[2m\u001b[33m(pid=raylet)\u001b[0m     self.server_bind()\n",
      "\u001b[2m\u001b[33m(pid=raylet)\u001b[0m   File \"/Users/atambu310/anaconda3/lib/python3.7/http/server.py\", line 137, in server_bind\n",
      "\u001b[2m\u001b[33m(pid=raylet)\u001b[0m     socketserver.TCPServer.server_bind(self)\n",
      "\u001b[2m\u001b[33m(pid=raylet)\u001b[0m   File \"/Users/atambu310/anaconda3/lib/python3.7/socketserver.py\", line 466, in server_bind\n",
      "\u001b[2m\u001b[33m(pid=raylet)\u001b[0m     self.socket.bind(self.server_address)\n",
      "\u001b[2m\u001b[33m(pid=raylet)\u001b[0m OSError: [Errno 48] Address already in use\n"
     ]
    },
    {
     "name": "stderr",
     "output_type": "stream",
     "text": [
      "2021-04-20 16:57:58,342\tWARNING worker.py:1034 -- The agent on node HQSML-1689941 failed with the following error:\n",
      "Traceback (most recent call last):\n",
      "  File \"/Users/atambu310/anaconda3/lib/python3.7/site-packages/ray/new_dashboard/agent.py\", line 306, in <module>\n",
      "    loop.run_until_complete(agent.run())\n",
      "  File \"/Users/atambu310/anaconda3/lib/python3.7/asyncio/base_events.py\", line 584, in run_until_complete\n",
      "    return future.result()\n",
      "  File \"/Users/atambu310/anaconda3/lib/python3.7/site-packages/ray/new_dashboard/agent.py\", line 131, in run\n",
      "    modules = self._load_modules()\n",
      "  File \"/Users/atambu310/anaconda3/lib/python3.7/site-packages/ray/new_dashboard/agent.py\", line 86, in _load_modules\n",
      "    c = cls(self)\n",
      "  File \"/Users/atambu310/anaconda3/lib/python3.7/site-packages/ray/new_dashboard/modules/reporter/reporter_agent.py\", line 72, in __init__\n",
      "    self._metrics_agent = MetricsAgent(dashboard_agent.metrics_export_port)\n",
      "  File \"/Users/atambu310/anaconda3/lib/python3.7/site-packages/ray/metrics_agent.py\", line 42, in __init__\n",
      "    namespace=\"ray\", port=metrics_export_port)))\n",
      "  File \"/Users/atambu310/anaconda3/lib/python3.7/site-packages/ray/prometheus_exporter.py\", line 334, in new_stats_exporter\n",
      "    options=option, gatherer=option.registry, collector=collector)\n",
      "  File \"/Users/atambu310/anaconda3/lib/python3.7/site-packages/ray/prometheus_exporter.py\", line 266, in __init__\n",
      "    self.serve_http()\n",
      "  File \"/Users/atambu310/anaconda3/lib/python3.7/site-packages/ray/prometheus_exporter.py\", line 321, in serve_http\n",
      "    port=self.options.port, addr=str(self.options.address))\n",
      "  File \"/Users/atambu310/anaconda3/lib/python3.7/site-packages/prometheus_client/exposition.py\", line 193, in start_http_server\n",
      "    httpd = _ThreadingSimpleServer((addr, port), CustomMetricsHandler)\n",
      "  File \"/Users/atambu310/anaconda3/lib/python3.7/socketserver.py\", line 452, in __init__\n",
      "    self.server_bind()\n",
      "  File \"/Users/atambu310/anaconda3/lib/python3.7/http/server.py\", line 137, in server_bind\n",
      "    socketserver.TCPServer.server_bind(self)\n",
      "  File \"/Users/atambu310/anaconda3/lib/python3.7/socketserver.py\", line 466, in server_bind\n",
      "    self.socket.bind(self.server_address)\n",
      "OSError: [Errno 48] Address already in use\n",
      "\n",
      "\u001b[2m\u001b[33m(pid=raylet)\u001b[0m Traceback (most recent call last):\n",
      "\u001b[2m\u001b[33m(pid=raylet)\u001b[0m   File \"/Users/atambu310/anaconda3/lib/python3.7/site-packages/ray/new_dashboard/agent.py\", line 317, in <module>\n",
      "\u001b[2m\u001b[33m(pid=raylet)\u001b[0m     raise e\n",
      "\u001b[2m\u001b[33m(pid=raylet)\u001b[0m   File \"/Users/atambu310/anaconda3/lib/python3.7/site-packages/ray/new_dashboard/agent.py\", line 306, in <module>\n",
      "\u001b[2m\u001b[33m(pid=raylet)\u001b[0m     loop.run_until_complete(agent.run())\n",
      "\u001b[2m\u001b[33m(pid=raylet)\u001b[0m   File \"/Users/atambu310/anaconda3/lib/python3.7/asyncio/base_events.py\", line 584, in run_until_complete\n",
      "\u001b[2m\u001b[33m(pid=raylet)\u001b[0m     return future.result()\n",
      "\u001b[2m\u001b[33m(pid=raylet)\u001b[0m   File \"/Users/atambu310/anaconda3/lib/python3.7/site-packages/ray/new_dashboard/agent.py\", line 131, in run\n",
      "\u001b[2m\u001b[33m(pid=raylet)\u001b[0m     modules = self._load_modules()\n",
      "\u001b[2m\u001b[33m(pid=raylet)\u001b[0m   File \"/Users/atambu310/anaconda3/lib/python3.7/site-packages/ray/new_dashboard/agent.py\", line 86, in _load_modules\n",
      "\u001b[2m\u001b[33m(pid=raylet)\u001b[0m     c = cls(self)\n",
      "\u001b[2m\u001b[33m(pid=raylet)\u001b[0m   File \"/Users/atambu310/anaconda3/lib/python3.7/site-packages/ray/new_dashboard/modules/reporter/reporter_agent.py\", line 72, in __init__\n",
      "\u001b[2m\u001b[33m(pid=raylet)\u001b[0m     self._metrics_agent = MetricsAgent(dashboard_agent.metrics_export_port)\n",
      "\u001b[2m\u001b[33m(pid=raylet)\u001b[0m   File \"/Users/atambu310/anaconda3/lib/python3.7/site-packages/ray/metrics_agent.py\", line 42, in __init__\n",
      "\u001b[2m\u001b[33m(pid=raylet)\u001b[0m     namespace=\"ray\", port=metrics_export_port)))\n",
      "\u001b[2m\u001b[33m(pid=raylet)\u001b[0m   File \"/Users/atambu310/anaconda3/lib/python3.7/site-packages/ray/prometheus_exporter.py\", line 334, in new_stats_exporter\n",
      "\u001b[2m\u001b[33m(pid=raylet)\u001b[0m     options=option, gatherer=option.registry, collector=collector)\n",
      "\u001b[2m\u001b[33m(pid=raylet)\u001b[0m   File \"/Users/atambu310/anaconda3/lib/python3.7/site-packages/ray/prometheus_exporter.py\", line 266, in __init__\n",
      "\u001b[2m\u001b[33m(pid=raylet)\u001b[0m     self.serve_http()\n",
      "\u001b[2m\u001b[33m(pid=raylet)\u001b[0m   File \"/Users/atambu310/anaconda3/lib/python3.7/site-packages/ray/prometheus_exporter.py\", line 321, in serve_http\n",
      "\u001b[2m\u001b[33m(pid=raylet)\u001b[0m     port=self.options.port, addr=str(self.options.address))\n",
      "\u001b[2m\u001b[33m(pid=raylet)\u001b[0m   File \"/Users/atambu310/anaconda3/lib/python3.7/site-packages/prometheus_client/exposition.py\", line 193, in start_http_server\n",
      "\u001b[2m\u001b[33m(pid=raylet)\u001b[0m     httpd = _ThreadingSimpleServer((addr, port), CustomMetricsHandler)\n",
      "\u001b[2m\u001b[33m(pid=raylet)\u001b[0m   File \"/Users/atambu310/anaconda3/lib/python3.7/socketserver.py\", line 452, in __init__\n",
      "\u001b[2m\u001b[33m(pid=raylet)\u001b[0m     self.server_bind()\n",
      "\u001b[2m\u001b[33m(pid=raylet)\u001b[0m   File \"/Users/atambu310/anaconda3/lib/python3.7/http/server.py\", line 137, in server_bind\n",
      "\u001b[2m\u001b[33m(pid=raylet)\u001b[0m     socketserver.TCPServer.server_bind(self)\n",
      "\u001b[2m\u001b[33m(pid=raylet)\u001b[0m   File \"/Users/atambu310/anaconda3/lib/python3.7/socketserver.py\", line 466, in server_bind\n",
      "\u001b[2m\u001b[33m(pid=raylet)\u001b[0m     self.socket.bind(self.server_address)\n",
      "\u001b[2m\u001b[33m(pid=raylet)\u001b[0m OSError: [Errno 48] Address already in use\n"
     ]
    },
    {
     "name": "stdout",
     "output_type": "stream",
     "text": [
      "\u001b[2m\u001b[36m(pid=40181)\u001b[0m loading model\n",
      "\u001b[2m\u001b[36m(pid=40180)\u001b[0m loading model\n",
      "\u001b[2m\u001b[36m(pid=40185)\u001b[0m loading model\n",
      "\u001b[2m\u001b[36m(pid=40182)\u001b[0m loading model\n",
      "\u001b[2m\u001b[36m(pid=40184)\u001b[0m loading model\n",
      "\u001b[2m\u001b[36m(pid=40183)\u001b[0m loading model\n"
     ]
    },
    {
     "name": "stderr",
     "output_type": "stream",
     "text": [
      "2021-04-20 16:58:04,298\tWARNING worker.py:1034 -- The agent on node HQSML-1689941 failed with the following error:\n",
      "Traceback (most recent call last):\n",
      "  File \"/Users/atambu310/anaconda3/lib/python3.7/site-packages/ray/new_dashboard/agent.py\", line 306, in <module>\n",
      "    loop.run_until_complete(agent.run())\n",
      "  File \"/Users/atambu310/anaconda3/lib/python3.7/asyncio/base_events.py\", line 584, in run_until_complete\n",
      "    return future.result()\n",
      "  File \"/Users/atambu310/anaconda3/lib/python3.7/site-packages/ray/new_dashboard/agent.py\", line 131, in run\n",
      "    modules = self._load_modules()\n",
      "  File \"/Users/atambu310/anaconda3/lib/python3.7/site-packages/ray/new_dashboard/agent.py\", line 86, in _load_modules\n",
      "    c = cls(self)\n",
      "  File \"/Users/atambu310/anaconda3/lib/python3.7/site-packages/ray/new_dashboard/modules/reporter/reporter_agent.py\", line 72, in __init__\n",
      "    self._metrics_agent = MetricsAgent(dashboard_agent.metrics_export_port)\n",
      "  File \"/Users/atambu310/anaconda3/lib/python3.7/site-packages/ray/metrics_agent.py\", line 42, in __init__\n",
      "    namespace=\"ray\", port=metrics_export_port)))\n",
      "  File \"/Users/atambu310/anaconda3/lib/python3.7/site-packages/ray/prometheus_exporter.py\", line 334, in new_stats_exporter\n",
      "    options=option, gatherer=option.registry, collector=collector)\n",
      "  File \"/Users/atambu310/anaconda3/lib/python3.7/site-packages/ray/prometheus_exporter.py\", line 266, in __init__\n",
      "    self.serve_http()\n",
      "  File \"/Users/atambu310/anaconda3/lib/python3.7/site-packages/ray/prometheus_exporter.py\", line 321, in serve_http\n",
      "    port=self.options.port, addr=str(self.options.address))\n",
      "  File \"/Users/atambu310/anaconda3/lib/python3.7/site-packages/prometheus_client/exposition.py\", line 193, in start_http_server\n",
      "    httpd = _ThreadingSimpleServer((addr, port), CustomMetricsHandler)\n",
      "  File \"/Users/atambu310/anaconda3/lib/python3.7/socketserver.py\", line 452, in __init__\n",
      "    self.server_bind()\n",
      "  File \"/Users/atambu310/anaconda3/lib/python3.7/http/server.py\", line 137, in server_bind\n",
      "    socketserver.TCPServer.server_bind(self)\n",
      "  File \"/Users/atambu310/anaconda3/lib/python3.7/socketserver.py\", line 466, in server_bind\n",
      "    self.socket.bind(self.server_address)\n",
      "OSError: [Errno 48] Address already in use\n",
      "\n",
      "\u001b[2m\u001b[33m(pid=raylet)\u001b[0m Traceback (most recent call last):\n",
      "\u001b[2m\u001b[33m(pid=raylet)\u001b[0m   File \"/Users/atambu310/anaconda3/lib/python3.7/site-packages/ray/new_dashboard/agent.py\", line 317, in <module>\n",
      "\u001b[2m\u001b[33m(pid=raylet)\u001b[0m     raise e\n",
      "\u001b[2m\u001b[33m(pid=raylet)\u001b[0m   File \"/Users/atambu310/anaconda3/lib/python3.7/site-packages/ray/new_dashboard/agent.py\", line 306, in <module>\n",
      "\u001b[2m\u001b[33m(pid=raylet)\u001b[0m     loop.run_until_complete(agent.run())\n",
      "\u001b[2m\u001b[33m(pid=raylet)\u001b[0m   File \"/Users/atambu310/anaconda3/lib/python3.7/asyncio/base_events.py\", line 584, in run_until_complete\n",
      "\u001b[2m\u001b[33m(pid=raylet)\u001b[0m     return future.result()\n",
      "\u001b[2m\u001b[33m(pid=raylet)\u001b[0m   File \"/Users/atambu310/anaconda3/lib/python3.7/site-packages/ray/new_dashboard/agent.py\", line 131, in run\n",
      "\u001b[2m\u001b[33m(pid=raylet)\u001b[0m     modules = self._load_modules()\n",
      "\u001b[2m\u001b[33m(pid=raylet)\u001b[0m   File \"/Users/atambu310/anaconda3/lib/python3.7/site-packages/ray/new_dashboard/agent.py\", line 86, in _load_modules\n",
      "\u001b[2m\u001b[33m(pid=raylet)\u001b[0m     c = cls(self)\n",
      "\u001b[2m\u001b[33m(pid=raylet)\u001b[0m   File \"/Users/atambu310/anaconda3/lib/python3.7/site-packages/ray/new_dashboard/modules/reporter/reporter_agent.py\", line 72, in __init__\n",
      "\u001b[2m\u001b[33m(pid=raylet)\u001b[0m     self._metrics_agent = MetricsAgent(dashboard_agent.metrics_export_port)\n",
      "\u001b[2m\u001b[33m(pid=raylet)\u001b[0m   File \"/Users/atambu310/anaconda3/lib/python3.7/site-packages/ray/metrics_agent.py\", line 42, in __init__\n",
      "\u001b[2m\u001b[33m(pid=raylet)\u001b[0m     namespace=\"ray\", port=metrics_export_port)))\n",
      "\u001b[2m\u001b[33m(pid=raylet)\u001b[0m   File \"/Users/atambu310/anaconda3/lib/python3.7/site-packages/ray/prometheus_exporter.py\", line 334, in new_stats_exporter\n",
      "\u001b[2m\u001b[33m(pid=raylet)\u001b[0m     options=option, gatherer=option.registry, collector=collector)\n",
      "\u001b[2m\u001b[33m(pid=raylet)\u001b[0m   File \"/Users/atambu310/anaconda3/lib/python3.7/site-packages/ray/prometheus_exporter.py\", line 266, in __init__\n",
      "\u001b[2m\u001b[33m(pid=raylet)\u001b[0m     self.serve_http()\n",
      "\u001b[2m\u001b[33m(pid=raylet)\u001b[0m   File \"/Users/atambu310/anaconda3/lib/python3.7/site-packages/ray/prometheus_exporter.py\", line 321, in serve_http\n",
      "\u001b[2m\u001b[33m(pid=raylet)\u001b[0m     port=self.options.port, addr=str(self.options.address))\n",
      "\u001b[2m\u001b[33m(pid=raylet)\u001b[0m   File \"/Users/atambu310/anaconda3/lib/python3.7/site-packages/prometheus_client/exposition.py\", line 193, in start_http_server\n",
      "\u001b[2m\u001b[33m(pid=raylet)\u001b[0m     httpd = _ThreadingSimpleServer((addr, port), CustomMetricsHandler)\n",
      "\u001b[2m\u001b[33m(pid=raylet)\u001b[0m   File \"/Users/atambu310/anaconda3/lib/python3.7/socketserver.py\", line 452, in __init__\n",
      "\u001b[2m\u001b[33m(pid=raylet)\u001b[0m     self.server_bind()\n",
      "\u001b[2m\u001b[33m(pid=raylet)\u001b[0m \n",
      "\u001b[2m\u001b[33m(pid=raylet)\u001b[0m   File \"/Users/atambu310/anaconda3/lib/python3.7/http/server.py\", line 137, in server_bind\n",
      "\u001b[2m\u001b[33m(pid=raylet)\u001b[0m     socketserver.TCPServer.server_bind(self)\n",
      "\u001b[2m\u001b[33m(pid=raylet)\u001b[0m   File \"/Users/atambu310/anaconda3/lib/python3.7/socketserver.py\", line 466, in server_bind\n",
      "\u001b[2m\u001b[33m(pid=raylet)\u001b[0m     self.socket.bind(self.server_address)\n",
      "\u001b[2m\u001b[33m(pid=raylet)\u001b[0m OSError: [Errno 48] Address already in use\n"
     ]
    },
    {
     "name": "stdout",
     "output_type": "stream",
     "text": [
      "\u001b[2m\u001b[36m(pid=40181)\u001b[0m loading model...done\n",
      "\u001b[2m\u001b[36m(pid=40184)\u001b[0m loading model...done\n",
      "\u001b[2m\u001b[36m(pid=40180)\u001b[0m loading model...done\n",
      "\u001b[2m\u001b[36m(pid=40183)\u001b[0m loading model...done\n",
      "\u001b[2m\u001b[36m(pid=40185)\u001b[0m loading model...done\n",
      "\u001b[2m\u001b[36m(pid=40182)\u001b[0m loading model...done\n"
     ]
    },
    {
     "name": "stderr",
     "output_type": "stream",
     "text": [
      "2021-04-20 16:58:09,534\tWARNING worker.py:1034 -- The agent on node HQSML-1689941 failed with the following error:\n",
      "Traceback (most recent call last):\n",
      "  File \"/Users/atambu310/anaconda3/lib/python3.7/site-packages/ray/new_dashboard/agent.py\", line 306, in <module>\n",
      "    loop.run_until_complete(agent.run())\n",
      "  File \"/Users/atambu310/anaconda3/lib/python3.7/asyncio/base_events.py\", line 584, in run_until_complete\n",
      "    return future.result()\n",
      "  File \"/Users/atambu310/anaconda3/lib/python3.7/site-packages/ray/new_dashboard/agent.py\", line 131, in run\n",
      "    modules = self._load_modules()\n",
      "  File \"/Users/atambu310/anaconda3/lib/python3.7/site-packages/ray/new_dashboard/agent.py\", line 86, in _load_modules\n",
      "    c = cls(self)\n",
      "  File \"/Users/atambu310/anaconda3/lib/python3.7/site-packages/ray/new_dashboard/modules/reporter/reporter_agent.py\", line 72, in __init__\n",
      "    self._metrics_agent = MetricsAgent(dashboard_agent.metrics_export_port)\n",
      "  File \"/Users/atambu310/anaconda3/lib/python3.7/site-packages/ray/metrics_agent.py\", line 42, in __init__\n",
      "    namespace=\"ray\", port=metrics_export_port)))\n",
      "  File \"/Users/atambu310/anaconda3/lib/python3.7/site-packages/ray/prometheus_exporter.py\", line 334, in new_stats_exporter\n",
      "    options=option, gatherer=option.registry, collector=collector)\n",
      "  File \"/Users/atambu310/anaconda3/lib/python3.7/site-packages/ray/prometheus_exporter.py\", line 266, in __init__\n",
      "    self.serve_http()\n",
      "  File \"/Users/atambu310/anaconda3/lib/python3.7/site-packages/ray/prometheus_exporter.py\", line 321, in serve_http\n",
      "    port=self.options.port, addr=str(self.options.address))\n",
      "  File \"/Users/atambu310/anaconda3/lib/python3.7/site-packages/prometheus_client/exposition.py\", line 193, in start_http_server\n",
      "    httpd = _ThreadingSimpleServer((addr, port), CustomMetricsHandler)\n",
      "  File \"/Users/atambu310/anaconda3/lib/python3.7/socketserver.py\", line 452, in __init__\n",
      "    self.server_bind()\n",
      "  File \"/Users/atambu310/anaconda3/lib/python3.7/http/server.py\", line 137, in server_bind\n",
      "    socketserver.TCPServer.server_bind(self)\n",
      "  File \"/Users/atambu310/anaconda3/lib/python3.7/socketserver.py\", line 466, in server_bind\n",
      "    self.socket.bind(self.server_address)\n",
      "OSError: [Errno 48] Address already in use\n",
      "\n",
      "\u001b[2m\u001b[33m(pid=raylet)\u001b[0m Traceback (most recent call last):\n",
      "\u001b[2m\u001b[33m(pid=raylet)\u001b[0m   File \"/Users/atambu310/anaconda3/lib/python3.7/site-packages/ray/new_dashboard/agent.py\", line 317, in <module>\n",
      "\u001b[2m\u001b[33m(pid=raylet)\u001b[0m     raise e\n",
      "\u001b[2m\u001b[33m(pid=raylet)\u001b[0m   File \"/Users/atambu310/anaconda3/lib/python3.7/site-packages/ray/new_dashboard/agent.py\", line 306, in <module>\n",
      "\u001b[2m\u001b[33m(pid=raylet)\u001b[0m     loop.run_until_complete(agent.run())\n",
      "\u001b[2m\u001b[33m(pid=raylet)\u001b[0m   File \"/Users/atambu310/anaconda3/lib/python3.7/asyncio/base_events.py\", line 584, in run_until_complete\n",
      "\u001b[2m\u001b[33m(pid=raylet)\u001b[0m     return future.result()\n",
      "\u001b[2m\u001b[33m(pid=raylet)\u001b[0m   File \"/Users/atambu310/anaconda3/lib/python3.7/site-packages/ray/new_dashboard/agent.py\", line 131, in run\n",
      "\u001b[2m\u001b[33m(pid=raylet)\u001b[0m     modules = self._load_modules()\n",
      "\u001b[2m\u001b[33m(pid=raylet)\u001b[0m   File \"/Users/atambu310/anaconda3/lib/python3.7/site-packages/ray/new_dashboard/agent.py\", line 86, in _load_modules\n",
      "\u001b[2m\u001b[33m(pid=raylet)\u001b[0m     c = cls(self)\n",
      "\u001b[2m\u001b[33m(pid=raylet)\u001b[0m   File \"/Users/atambu310/anaconda3/lib/python3.7/site-packages/ray/new_dashboard/modules/reporter/reporter_agent.py\", line 72, in __init__\n",
      "\u001b[2m\u001b[33m(pid=raylet)\u001b[0m     self._metrics_agent = MetricsAgent(dashboard_agent.metrics_export_port)\n",
      "\u001b[2m\u001b[33m(pid=raylet)\u001b[0m   File \"/Users/atambu310/anaconda3/lib/python3.7/site-packages/ray/metrics_agent.py\", line 42, in __init__\n",
      "\u001b[2m\u001b[33m(pid=raylet)\u001b[0m     namespace=\"ray\", port=metrics_export_port)))\n",
      "\u001b[2m\u001b[33m(pid=raylet)\u001b[0m   File \"/Users/atambu310/anaconda3/lib/python3.7/site-packages/ray/prometheus_exporter.py\", line 334, in new_stats_exporter\n",
      "\u001b[2m\u001b[33m(pid=raylet)\u001b[0m     options=option, gatherer=option.registry, collector=collector)\n",
      "\u001b[2m\u001b[33m(pid=raylet)\u001b[0m   File \"/Users/atambu310/anaconda3/lib/python3.7/site-packages/ray/prometheus_exporter.py\", line 266, in __init__\n",
      "\u001b[2m\u001b[33m(pid=raylet)\u001b[0m     self.serve_http()\n",
      "\u001b[2m\u001b[33m(pid=raylet)\u001b[0m   File \"/Users/atambu310/anaconda3/lib/python3.7/site-packages/ray/prometheus_exporter.py\", line 321, in serve_http\n",
      "\u001b[2m\u001b[33m(pid=raylet)\u001b[0m     port=self.options.port, addr=str(self.options.address))\n",
      "\u001b[2m\u001b[33m(pid=raylet)\u001b[0m   File \"/Users/atambu310/anaconda3/lib/python3.7/site-packages/prometheus_client/exposition.py\", line 193, in start_http_server\n",
      "\u001b[2m\u001b[33m(pid=raylet)\u001b[0m     httpd = _ThreadingSimpleServer((addr, port), CustomMetricsHandler)\n",
      "\u001b[2m\u001b[33m(pid=raylet)\u001b[0m   File \"/Users/atambu310/anaconda3/lib/python3.7/socketserver.py\", line 452, in __init__\n",
      "\u001b[2m\u001b[33m(pid=raylet)\u001b[0m     self.server_bind()\n",
      "\u001b[2m\u001b[33m(pid=raylet)\u001b[0m   File \"/Users/atambu310/anaconda3/lib/python3.7/http/server.py\", line 137, in server_bind\n",
      "\u001b[2m\u001b[33m(pid=raylet)\u001b[0m     socketserver.TCPServer.server_bind(self)\n",
      "\u001b[2m\u001b[33m(pid=raylet)\u001b[0m   File \"/Users/atambu310/anaconda3/lib/python3.7/socketserver.py\", line 466, in server_bind\n",
      "\u001b[2m\u001b[33m(pid=raylet)\u001b[0m     self.socket.bind(self.server_address)\n",
      "\u001b[2m\u001b[33m(pid=raylet)\u001b[0m OSError: [Errno 48] Address already in use\n",
      "2021-04-20 16:58:14,296\tWARNING worker.py:1034 -- The agent on node HQSML-1689941 failed with the following error:\n",
      "Traceback (most recent call last):\n",
      "  File \"/Users/atambu310/anaconda3/lib/python3.7/site-packages/ray/new_dashboard/agent.py\", line 306, in <module>\n",
      "    loop.run_until_complete(agent.run())\n",
      "  File \"/Users/atambu310/anaconda3/lib/python3.7/asyncio/base_events.py\", line 584, in run_until_complete\n",
      "    return future.result()\n",
      "  File \"/Users/atambu310/anaconda3/lib/python3.7/site-packages/ray/new_dashboard/agent.py\", line 131, in run\n",
      "    modules = self._load_modules()\n",
      "  File \"/Users/atambu310/anaconda3/lib/python3.7/site-packages/ray/new_dashboard/agent.py\", line 86, in _load_modules\n",
      "    c = cls(self)\n",
      "  File \"/Users/atambu310/anaconda3/lib/python3.7/site-packages/ray/new_dashboard/modules/reporter/reporter_agent.py\", line 72, in __init__\n",
      "    self._metrics_agent = MetricsAgent(dashboard_agent.metrics_export_port)\n",
      "  File \"/Users/atambu310/anaconda3/lib/python3.7/site-packages/ray/metrics_agent.py\", line 42, in __init__\n",
      "    namespace=\"ray\", port=metrics_export_port)))\n",
      "  File \"/Users/atambu310/anaconda3/lib/python3.7/site-packages/ray/prometheus_exporter.py\", line 334, in new_stats_exporter\n",
      "    options=option, gatherer=option.registry, collector=collector)\n",
      "  File \"/Users/atambu310/anaconda3/lib/python3.7/site-packages/ray/prometheus_exporter.py\", line 266, in __init__\n",
      "    self.serve_http()\n",
      "  File \"/Users/atambu310/anaconda3/lib/python3.7/site-packages/ray/prometheus_exporter.py\", line 321, in serve_http\n",
      "    port=self.options.port, addr=str(self.options.address))\n",
      "  File \"/Users/atambu310/anaconda3/lib/python3.7/site-packages/prometheus_client/exposition.py\", line 193, in start_http_server\n",
      "    httpd = _ThreadingSimpleServer((addr, port), CustomMetricsHandler)\n",
      "  File \"/Users/atambu310/anaconda3/lib/python3.7/socketserver.py\", line 452, in __init__\n",
      "    self.server_bind()\n",
      "  File \"/Users/atambu310/anaconda3/lib/python3.7/http/server.py\", line 137, in server_bind\n",
      "    socketserver.TCPServer.server_bind(self)\n",
      "  File \"/Users/atambu310/anaconda3/lib/python3.7/socketserver.py\", line 466, in server_bind\n",
      "    self.socket.bind(self.server_address)\n",
      "OSError: [Errno 48] Address already in use\n",
      "\n",
      "\u001b[2m\u001b[33m(pid=raylet)\u001b[0m Traceback (most recent call last):\n",
      "\u001b[2m\u001b[33m(pid=raylet)\u001b[0m   File \"/Users/atambu310/anaconda3/lib/python3.7/site-packages/ray/new_dashboard/agent.py\", line 317, in <module>\n",
      "\u001b[2m\u001b[33m(pid=raylet)\u001b[0m     raise e\n",
      "\u001b[2m\u001b[33m(pid=raylet)\u001b[0m   File \"/Users/atambu310/anaconda3/lib/python3.7/site-packages/ray/new_dashboard/agent.py\", line 306, in <module>\n",
      "\u001b[2m\u001b[33m(pid=raylet)\u001b[0m     loop.run_until_complete(agent.run())\n",
      "\u001b[2m\u001b[33m(pid=raylet)\u001b[0m   File \"/Users/atambu310/anaconda3/lib/python3.7/asyncio/base_events.py\", line 584, in run_until_complete\n",
      "\u001b[2m\u001b[33m(pid=raylet)\u001b[0m     return future.result()\n",
      "\u001b[2m\u001b[33m(pid=raylet)\u001b[0m   File \"/Users/atambu310/anaconda3/lib/python3.7/site-packages/ray/new_dashboard/agent.py\", line 131, in run\n",
      "\u001b[2m\u001b[33m(pid=raylet)\u001b[0m     modules = self._load_modules()\n",
      "\u001b[2m\u001b[33m(pid=raylet)\u001b[0m   File \"/Users/atambu310/anaconda3/lib/python3.7/site-packages/ray/new_dashboard/agent.py\", line 86, in _load_modules\n",
      "\u001b[2m\u001b[33m(pid=raylet)\u001b[0m     c = cls(self)\n",
      "\u001b[2m\u001b[33m(pid=raylet)\u001b[0m   File \"/Users/atambu310/anaconda3/lib/python3.7/site-packages/ray/new_dashboard/modules/reporter/reporter_agent.py\", line 72, in __init__\n",
      "\u001b[2m\u001b[33m(pid=raylet)\u001b[0m     self._metrics_agent = MetricsAgent(dashboard_agent.metrics_export_port)\n",
      "\u001b[2m\u001b[33m(pid=raylet)\u001b[0m   File \"/Users/atambu310/anaconda3/lib/python3.7/site-packages/ray/metrics_agent.py\", line 42, in __init__\n",
      "\u001b[2m\u001b[33m(pid=raylet)\u001b[0m     namespace=\"ray\", port=metrics_export_port)))\n",
      "\u001b[2m\u001b[33m(pid=raylet)\u001b[0m   File \"/Users/atambu310/anaconda3/lib/python3.7/site-packages/ray/prometheus_exporter.py\", line 334, in new_stats_exporter\n",
      "\u001b[2m\u001b[33m(pid=raylet)\u001b[0m     options=option, gatherer=option.registry, collector=collector)\n",
      "\u001b[2m\u001b[33m(pid=raylet)\u001b[0m   File \"/Users/atambu310/anaconda3/lib/python3.7/site-packages/ray/prometheus_exporter.py\", line 266, in __init__\n",
      "\u001b[2m\u001b[33m(pid=raylet)\u001b[0m     self.serve_http()\n",
      "\u001b[2m\u001b[33m(pid=raylet)\u001b[0m   File \"/Users/atambu310/anaconda3/lib/python3.7/site-packages/ray/prometheus_exporter.py\", line 321, in serve_http\n",
      "\u001b[2m\u001b[33m(pid=raylet)\u001b[0m     port=self.options.port, addr=str(self.options.address))\n",
      "\u001b[2m\u001b[33m(pid=raylet)\u001b[0m   File \"/Users/atambu310/anaconda3/lib/python3.7/site-packages/prometheus_client/exposition.py\", line 193, in start_http_server\n",
      "\u001b[2m\u001b[33m(pid=raylet)\u001b[0m     httpd = _ThreadingSimpleServer((addr, port), CustomMetricsHandler)\n",
      "\u001b[2m\u001b[33m(pid=raylet)\u001b[0m   File \"/Users/atambu310/anaconda3/lib/python3.7/socketserver.py\", line 452, in __init__\n",
      "\u001b[2m\u001b[33m(pid=raylet)\u001b[0m     self.server_bind()\n",
      "\u001b[2m\u001b[33m(pid=raylet)\u001b[0m   File \"/Users/atambu310/anaconda3/lib/python3.7/http/server.py\", line 137, in server_bind\n",
      "\u001b[2m\u001b[33m(pid=raylet)\u001b[0m     socketserver.TCPServer.server_bind(self)\n",
      "\u001b[2m\u001b[33m(pid=raylet)\u001b[0m   File \"/Users/atambu310/anaconda3/lib/python3.7/socketserver.py\", line 466, in server_bind\n",
      "\u001b[2m\u001b[33m(pid=raylet)\u001b[0m     self.socket.bind(self.server_address)\n",
      "\u001b[2m\u001b[33m(pid=raylet)\u001b[0m OSError: [Errno 48] Address already in use\n"
     ]
    },
    {
     "name": "stderr",
     "output_type": "stream",
     "text": [
      "2021-04-20 16:58:19,162\tWARNING worker.py:1034 -- The agent on node HQSML-1689941 failed with the following error:\n",
      "Traceback (most recent call last):\n",
      "  File \"/Users/atambu310/anaconda3/lib/python3.7/site-packages/ray/new_dashboard/agent.py\", line 306, in <module>\n",
      "    loop.run_until_complete(agent.run())\n",
      "  File \"/Users/atambu310/anaconda3/lib/python3.7/asyncio/base_events.py\", line 584, in run_until_complete\n",
      "    return future.result()\n",
      "  File \"/Users/atambu310/anaconda3/lib/python3.7/site-packages/ray/new_dashboard/agent.py\", line 131, in run\n",
      "    modules = self._load_modules()\n",
      "  File \"/Users/atambu310/anaconda3/lib/python3.7/site-packages/ray/new_dashboard/agent.py\", line 86, in _load_modules\n",
      "    c = cls(self)\n",
      "  File \"/Users/atambu310/anaconda3/lib/python3.7/site-packages/ray/new_dashboard/modules/reporter/reporter_agent.py\", line 72, in __init__\n",
      "    self._metrics_agent = MetricsAgent(dashboard_agent.metrics_export_port)\n",
      "  File \"/Users/atambu310/anaconda3/lib/python3.7/site-packages/ray/metrics_agent.py\", line 42, in __init__\n",
      "    namespace=\"ray\", port=metrics_export_port)))\n",
      "  File \"/Users/atambu310/anaconda3/lib/python3.7/site-packages/ray/prometheus_exporter.py\", line 334, in new_stats_exporter\n",
      "    options=option, gatherer=option.registry, collector=collector)\n",
      "  File \"/Users/atambu310/anaconda3/lib/python3.7/site-packages/ray/prometheus_exporter.py\", line 266, in __init__\n",
      "    self.serve_http()\n",
      "  File \"/Users/atambu310/anaconda3/lib/python3.7/site-packages/ray/prometheus_exporter.py\", line 321, in serve_http\n",
      "    port=self.options.port, addr=str(self.options.address))\n",
      "  File \"/Users/atambu310/anaconda3/lib/python3.7/site-packages/prometheus_client/exposition.py\", line 193, in start_http_server\n",
      "    httpd = _ThreadingSimpleServer((addr, port), CustomMetricsHandler)\n",
      "  File \"/Users/atambu310/anaconda3/lib/python3.7/socketserver.py\", line 452, in __init__\n",
      "    self.server_bind()\n",
      "  File \"/Users/atambu310/anaconda3/lib/python3.7/http/server.py\", line 137, in server_bind\n",
      "    socketserver.TCPServer.server_bind(self)\n",
      "  File \"/Users/atambu310/anaconda3/lib/python3.7/socketserver.py\", line 466, in server_bind\n",
      "    self.socket.bind(self.server_address)\n",
      "OSError: [Errno 48] Address already in use\n",
      "\n",
      "\u001b[2m\u001b[33m(pid=raylet)\u001b[0m Traceback (most recent call last):\n",
      "\u001b[2m\u001b[33m(pid=raylet)\u001b[0m   File \"/Users/atambu310/anaconda3/lib/python3.7/site-packages/ray/new_dashboard/agent.py\", line 317, in <module>\n",
      "\u001b[2m\u001b[33m(pid=raylet)\u001b[0m     raise e\n",
      "\u001b[2m\u001b[33m(pid=raylet)\u001b[0m   File \"/Users/atambu310/anaconda3/lib/python3.7/site-packages/ray/new_dashboard/agent.py\", line 306, in <module>\n",
      "\u001b[2m\u001b[33m(pid=raylet)\u001b[0m     loop.run_until_complete(agent.run())\n",
      "\u001b[2m\u001b[33m(pid=raylet)\u001b[0m   File \"/Users/atambu310/anaconda3/lib/python3.7/asyncio/base_events.py\", line 584, in run_until_complete\n",
      "\u001b[2m\u001b[33m(pid=raylet)\u001b[0m     return future.result()\n",
      "\u001b[2m\u001b[33m(pid=raylet)\u001b[0m   File \"/Users/atambu310/anaconda3/lib/python3.7/site-packages/ray/new_dashboard/agent.py\", line 131, in run\n",
      "\u001b[2m\u001b[33m(pid=raylet)\u001b[0m     modules = self._load_modules()\n",
      "\u001b[2m\u001b[33m(pid=raylet)\u001b[0m   File \"/Users/atambu310/anaconda3/lib/python3.7/site-packages/ray/new_dashboard/agent.py\", line 86, in _load_modules\n",
      "\u001b[2m\u001b[33m(pid=raylet)\u001b[0m     c = cls(self)\n",
      "\u001b[2m\u001b[33m(pid=raylet)\u001b[0m   File \"/Users/atambu310/anaconda3/lib/python3.7/site-packages/ray/new_dashboard/modules/reporter/reporter_agent.py\", line 72, in __init__\n",
      "\u001b[2m\u001b[33m(pid=raylet)\u001b[0m     self._metrics_agent = MetricsAgent(dashboard_agent.metrics_export_port)\n",
      "\u001b[2m\u001b[33m(pid=raylet)\u001b[0m   File \"/Users/atambu310/anaconda3/lib/python3.7/site-packages/ray/metrics_agent.py\", line 42, in __init__\n",
      "\u001b[2m\u001b[33m(pid=raylet)\u001b[0m     namespace=\"ray\", port=metrics_export_port)))\n",
      "\u001b[2m\u001b[33m(pid=raylet)\u001b[0m   File \"/Users/atambu310/anaconda3/lib/python3.7/site-packages/ray/prometheus_exporter.py\", line 334, in new_stats_exporter\n",
      "\u001b[2m\u001b[33m(pid=raylet)\u001b[0m     options=option, gatherer=option.registry, collector=collector)\n",
      "\u001b[2m\u001b[33m(pid=raylet)\u001b[0m   File \"/Users/atambu310/anaconda3/lib/python3.7/site-packages/ray/prometheus_exporter.py\", line 266, in __init__\n",
      "\u001b[2m\u001b[33m(pid=raylet)\u001b[0m     self.serve_http()\n",
      "\u001b[2m\u001b[33m(pid=raylet)\u001b[0m   File \"/Users/atambu310/anaconda3/lib/python3.7/site-packages/ray/prometheus_exporter.py\", line 321, in serve_http\n",
      "\u001b[2m\u001b[33m(pid=raylet)\u001b[0m     port=self.options.port, addr=str(self.options.address))\n",
      "\u001b[2m\u001b[33m(pid=raylet)\u001b[0m   File \"/Users/atambu310/anaconda3/lib/python3.7/site-packages/prometheus_client/exposition.py\", line 193, in start_http_server\n",
      "\u001b[2m\u001b[33m(pid=raylet)\u001b[0m     httpd = _ThreadingSimpleServer((addr, port), CustomMetricsHandler)\n",
      "\u001b[2m\u001b[33m(pid=raylet)\u001b[0m   File \"/Users/atambu310/anaconda3/lib/python3.7/socketserver.py\", line 452, in __init__\n",
      "\u001b[2m\u001b[33m(pid=raylet)\u001b[0m     self.server_bind()\n",
      "\u001b[2m\u001b[33m(pid=raylet)\u001b[0m   File \"/Users/atambu310/anaconda3/lib/python3.7/http/server.py\", line 137, in server_bind\n",
      "\u001b[2m\u001b[33m(pid=raylet)\u001b[0m     socketserver.TCPServer.server_bind(self)\n",
      "\u001b[2m\u001b[33m(pid=raylet)\u001b[0m   File \"/Users/atambu310/anaconda3/lib/python3.7/socketserver.py\", line 466, in server_bind\n",
      "\u001b[2m\u001b[33m(pid=raylet)\u001b[0m     self.socket.bind(self.server_address)\n",
      "\u001b[2m\u001b[33m(pid=raylet)\u001b[0m OSError: [Errno 48] Address already in use\n",
      "2021-04-20 16:58:23,789\tWARNING worker.py:1034 -- The agent on node HQSML-1689941 failed with the following error:\n",
      "Traceback (most recent call last):\n",
      "  File \"/Users/atambu310/anaconda3/lib/python3.7/site-packages/ray/new_dashboard/agent.py\", line 306, in <module>\n",
      "    loop.run_until_complete(agent.run())\n",
      "  File \"/Users/atambu310/anaconda3/lib/python3.7/asyncio/base_events.py\", line 584, in run_until_complete\n",
      "    return future.result()\n",
      "  File \"/Users/atambu310/anaconda3/lib/python3.7/site-packages/ray/new_dashboard/agent.py\", line 131, in run\n",
      "    modules = self._load_modules()\n",
      "  File \"/Users/atambu310/anaconda3/lib/python3.7/site-packages/ray/new_dashboard/agent.py\", line 86, in _load_modules\n",
      "    c = cls(self)\n",
      "  File \"/Users/atambu310/anaconda3/lib/python3.7/site-packages/ray/new_dashboard/modules/reporter/reporter_agent.py\", line 72, in __init__\n",
      "    self._metrics_agent = MetricsAgent(dashboard_agent.metrics_export_port)\n",
      "  File \"/Users/atambu310/anaconda3/lib/python3.7/site-packages/ray/metrics_agent.py\", line 42, in __init__\n",
      "    namespace=\"ray\", port=metrics_export_port)))\n",
      "  File \"/Users/atambu310/anaconda3/lib/python3.7/site-packages/ray/prometheus_exporter.py\", line 334, in new_stats_exporter\n",
      "    options=option, gatherer=option.registry, collector=collector)\n",
      "  File \"/Users/atambu310/anaconda3/lib/python3.7/site-packages/ray/prometheus_exporter.py\", line 266, in __init__\n",
      "    self.serve_http()\n",
      "  File \"/Users/atambu310/anaconda3/lib/python3.7/site-packages/ray/prometheus_exporter.py\", line 321, in serve_http\n",
      "    port=self.options.port, addr=str(self.options.address))\n",
      "  File \"/Users/atambu310/anaconda3/lib/python3.7/site-packages/prometheus_client/exposition.py\", line 193, in start_http_server\n",
      "    httpd = _ThreadingSimpleServer((addr, port), CustomMetricsHandler)\n",
      "  File \"/Users/atambu310/anaconda3/lib/python3.7/socketserver.py\", line 452, in __init__\n",
      "    self.server_bind()\n",
      "  File \"/Users/atambu310/anaconda3/lib/python3.7/http/server.py\", line 137, in server_bind\n",
      "    socketserver.TCPServer.server_bind(self)\n",
      "  File \"/Users/atambu310/anaconda3/lib/python3.7/socketserver.py\", line 466, in server_bind\n",
      "    self.socket.bind(self.server_address)\n",
      "OSError: [Errno 48] Address already in use\n",
      "\n",
      "\u001b[2m\u001b[33m(pid=raylet)\u001b[0m Traceback (most recent call last):\n",
      "\u001b[2m\u001b[33m(pid=raylet)\u001b[0m   File \"/Users/atambu310/anaconda3/lib/python3.7/site-packages/ray/new_dashboard/agent.py\", line 317, in <module>\n",
      "\u001b[2m\u001b[33m(pid=raylet)\u001b[0m     raise e\n",
      "\u001b[2m\u001b[33m(pid=raylet)\u001b[0m   File \"/Users/atambu310/anaconda3/lib/python3.7/site-packages/ray/new_dashboard/agent.py\", line 306, in <module>\n",
      "\u001b[2m\u001b[33m(pid=raylet)\u001b[0m     loop.run_until_complete(agent.run())\n",
      "\u001b[2m\u001b[33m(pid=raylet)\u001b[0m   File \"/Users/atambu310/anaconda3/lib/python3.7/asyncio/base_events.py\", line 584, in run_until_complete\n",
      "\u001b[2m\u001b[33m(pid=raylet)\u001b[0m     return future.result()\n",
      "\u001b[2m\u001b[33m(pid=raylet)\u001b[0m   File \"/Users/atambu310/anaconda3/lib/python3.7/site-packages/ray/new_dashboard/agent.py\", line 131, in run\n",
      "\u001b[2m\u001b[33m(pid=raylet)\u001b[0m     modules = self._load_modules()\n",
      "\u001b[2m\u001b[33m(pid=raylet)\u001b[0m   File \"/Users/atambu310/anaconda3/lib/python3.7/site-packages/ray/new_dashboard/agent.py\", line 86, in _load_modules\n",
      "\u001b[2m\u001b[33m(pid=raylet)\u001b[0m     c = cls(self)\n",
      "\u001b[2m\u001b[33m(pid=raylet)\u001b[0m   File \"/Users/atambu310/anaconda3/lib/python3.7/site-packages/ray/new_dashboard/modules/reporter/reporter_agent.py\", line 72, in __init__\n",
      "\u001b[2m\u001b[33m(pid=raylet)\u001b[0m     self._metrics_agent = MetricsAgent(dashboard_agent.metrics_export_port)\n",
      "\u001b[2m\u001b[33m(pid=raylet)\u001b[0m   File \"/Users/atambu310/anaconda3/lib/python3.7/site-packages/ray/metrics_agent.py\", line 42, in __init__\n",
      "\u001b[2m\u001b[33m(pid=raylet)\u001b[0m     namespace=\"ray\", port=metrics_export_port)))\n",
      "\u001b[2m\u001b[33m(pid=raylet)\u001b[0m   File \"/Users/atambu310/anaconda3/lib/python3.7/site-packages/ray/prometheus_exporter.py\", line 334, in new_stats_exporter\n",
      "\u001b[2m\u001b[33m(pid=raylet)\u001b[0m     options=option, gatherer=option.registry, collector=collector)\n",
      "\u001b[2m\u001b[33m(pid=raylet)\u001b[0m   File \"/Users/atambu310/anaconda3/lib/python3.7/site-packages/ray/prometheus_exporter.py\", line 266, in __init__\n",
      "\u001b[2m\u001b[33m(pid=raylet)\u001b[0m     self.serve_http()\n",
      "\u001b[2m\u001b[33m(pid=raylet)\u001b[0m   File \"/Users/atambu310/anaconda3/lib/python3.7/site-packages/ray/prometheus_exporter.py\", line 321, in serve_http\n",
      "\u001b[2m\u001b[33m(pid=raylet)\u001b[0m     port=self.options.port, addr=str(self.options.address))\n",
      "\u001b[2m\u001b[33m(pid=raylet)\u001b[0m   File \"/Users/atambu310/anaconda3/lib/python3.7/site-packages/prometheus_client/exposition.py\", line 193, in start_http_server\n",
      "\u001b[2m\u001b[33m(pid=raylet)\u001b[0m     httpd = _ThreadingSimpleServer((addr, port), CustomMetricsHandler)\n",
      "\u001b[2m\u001b[33m(pid=raylet)\u001b[0m   File \"/Users/atambu310/anaconda3/lib/python3.7/socketserver.py\", line 452, in __init__\n",
      "\u001b[2m\u001b[33m(pid=raylet)\u001b[0m     self.server_bind()\n",
      "\u001b[2m\u001b[33m(pid=raylet)\u001b[0m   File \"/Users/atambu310/anaconda3/lib/python3.7/http/server.py\", line 137, in server_bind\n",
      "\u001b[2m\u001b[33m(pid=raylet)\u001b[0m     socketserver.TCPServer.server_bind(self)\n",
      "\u001b[2m\u001b[33m(pid=raylet)\u001b[0m   File \"/Users/atambu310/anaconda3/lib/python3.7/socketserver.py\", line 466, in server_bind\n",
      "\u001b[2m\u001b[33m(pid=raylet)\u001b[0m     self.socket.bind(self.server_address)\n",
      "\u001b[2m\u001b[33m(pid=raylet)\u001b[0m OSError: [Errno 48] Address already in use\n"
     ]
    },
    {
     "name": "stderr",
     "output_type": "stream",
     "text": [
      "2021-04-20 16:58:28,627\tWARNING worker.py:1034 -- The agent on node HQSML-1689941 failed with the following error:\n",
      "Traceback (most recent call last):\n",
      "  File \"/Users/atambu310/anaconda3/lib/python3.7/site-packages/ray/new_dashboard/agent.py\", line 306, in <module>\n",
      "    loop.run_until_complete(agent.run())\n",
      "  File \"/Users/atambu310/anaconda3/lib/python3.7/asyncio/base_events.py\", line 584, in run_until_complete\n",
      "    return future.result()\n",
      "  File \"/Users/atambu310/anaconda3/lib/python3.7/site-packages/ray/new_dashboard/agent.py\", line 131, in run\n",
      "    modules = self._load_modules()\n",
      "  File \"/Users/atambu310/anaconda3/lib/python3.7/site-packages/ray/new_dashboard/agent.py\", line 86, in _load_modules\n",
      "    c = cls(self)\n",
      "  File \"/Users/atambu310/anaconda3/lib/python3.7/site-packages/ray/new_dashboard/modules/reporter/reporter_agent.py\", line 72, in __init__\n",
      "    self._metrics_agent = MetricsAgent(dashboard_agent.metrics_export_port)\n",
      "  File \"/Users/atambu310/anaconda3/lib/python3.7/site-packages/ray/metrics_agent.py\", line 42, in __init__\n",
      "    namespace=\"ray\", port=metrics_export_port)))\n",
      "  File \"/Users/atambu310/anaconda3/lib/python3.7/site-packages/ray/prometheus_exporter.py\", line 334, in new_stats_exporter\n",
      "    options=option, gatherer=option.registry, collector=collector)\n",
      "  File \"/Users/atambu310/anaconda3/lib/python3.7/site-packages/ray/prometheus_exporter.py\", line 266, in __init__\n",
      "    self.serve_http()\n",
      "  File \"/Users/atambu310/anaconda3/lib/python3.7/site-packages/ray/prometheus_exporter.py\", line 321, in serve_http\n",
      "    port=self.options.port, addr=str(self.options.address))\n",
      "  File \"/Users/atambu310/anaconda3/lib/python3.7/site-packages/prometheus_client/exposition.py\", line 193, in start_http_server\n",
      "    httpd = _ThreadingSimpleServer((addr, port), CustomMetricsHandler)\n",
      "  File \"/Users/atambu310/anaconda3/lib/python3.7/socketserver.py\", line 452, in __init__\n",
      "    self.server_bind()\n",
      "  File \"/Users/atambu310/anaconda3/lib/python3.7/http/server.py\", line 137, in server_bind\n",
      "    socketserver.TCPServer.server_bind(self)\n",
      "  File \"/Users/atambu310/anaconda3/lib/python3.7/socketserver.py\", line 466, in server_bind\n",
      "    self.socket.bind(self.server_address)\n",
      "OSError: [Errno 48] Address already in use\n",
      "\n",
      "\u001b[2m\u001b[33m(pid=raylet)\u001b[0m Traceback (most recent call last):\n",
      "\u001b[2m\u001b[33m(pid=raylet)\u001b[0m   File \"/Users/atambu310/anaconda3/lib/python3.7/site-packages/ray/new_dashboard/agent.py\", line 317, in <module>\n",
      "\u001b[2m\u001b[33m(pid=raylet)\u001b[0m     raise e\n",
      "\u001b[2m\u001b[33m(pid=raylet)\u001b[0m   File \"/Users/atambu310/anaconda3/lib/python3.7/site-packages/ray/new_dashboard/agent.py\", line 306, in <module>\n",
      "\u001b[2m\u001b[33m(pid=raylet)\u001b[0m     loop.run_until_complete(agent.run())\n",
      "\u001b[2m\u001b[33m(pid=raylet)\u001b[0m   File \"/Users/atambu310/anaconda3/lib/python3.7/asyncio/base_events.py\", line 584, in run_until_complete\n",
      "\u001b[2m\u001b[33m(pid=raylet)\u001b[0m     return future.result()\n",
      "\u001b[2m\u001b[33m(pid=raylet)\u001b[0m   File \"/Users/atambu310/anaconda3/lib/python3.7/site-packages/ray/new_dashboard/agent.py\", line 131, in run\n",
      "\u001b[2m\u001b[33m(pid=raylet)\u001b[0m     modules = self._load_modules()\n",
      "\u001b[2m\u001b[33m(pid=raylet)\u001b[0m   File \"/Users/atambu310/anaconda3/lib/python3.7/site-packages/ray/new_dashboard/agent.py\", line 86, in _load_modules\n",
      "\u001b[2m\u001b[33m(pid=raylet)\u001b[0m     c = cls(self)\n",
      "\u001b[2m\u001b[33m(pid=raylet)\u001b[0m   File \"/Users/atambu310/anaconda3/lib/python3.7/site-packages/ray/new_dashboard/modules/reporter/reporter_agent.py\", line 72, in __init__\n",
      "\u001b[2m\u001b[33m(pid=raylet)\u001b[0m     self._metrics_agent = MetricsAgent(dashboard_agent.metrics_export_port)\n",
      "\u001b[2m\u001b[33m(pid=raylet)\u001b[0m   File \"/Users/atambu310/anaconda3/lib/python3.7/site-packages/ray/metrics_agent.py\", line 42, in __init__\n",
      "\u001b[2m\u001b[33m(pid=raylet)\u001b[0m     namespace=\"ray\", port=metrics_export_port)))\n",
      "\u001b[2m\u001b[33m(pid=raylet)\u001b[0m   File \"/Users/atambu310/anaconda3/lib/python3.7/site-packages/ray/prometheus_exporter.py\", line 334, in new_stats_exporter\n",
      "\u001b[2m\u001b[33m(pid=raylet)\u001b[0m     options=option, gatherer=option.registry, collector=collector)\n",
      "\u001b[2m\u001b[33m(pid=raylet)\u001b[0m   File \"/Users/atambu310/anaconda3/lib/python3.7/site-packages/ray/prometheus_exporter.py\", line 266, in __init__\n",
      "\u001b[2m\u001b[33m(pid=raylet)\u001b[0m     self.serve_http()\n",
      "\u001b[2m\u001b[33m(pid=raylet)\u001b[0m   File \"/Users/atambu310/anaconda3/lib/python3.7/site-packages/ray/prometheus_exporter.py\", line 321, in serve_http\n",
      "\u001b[2m\u001b[33m(pid=raylet)\u001b[0m     port=self.options.port, addr=str(self.options.address))\n",
      "\u001b[2m\u001b[33m(pid=raylet)\u001b[0m   File \"/Users/atambu310/anaconda3/lib/python3.7/site-packages/prometheus_client/exposition.py\", line 193, in start_http_server\n",
      "\u001b[2m\u001b[33m(pid=raylet)\u001b[0m     httpd = _ThreadingSimpleServer((addr, port), CustomMetricsHandler)\n",
      "\u001b[2m\u001b[33m(pid=raylet)\u001b[0m   File \"/Users/atambu310/anaconda3/lib/python3.7/socketserver.py\", line 452, in __init__\n",
      "\u001b[2m\u001b[33m(pid=raylet)\u001b[0m     self.server_bind()\n",
      "\u001b[2m\u001b[33m(pid=raylet)\u001b[0m   File \"/Users/atambu310/anaconda3/lib/python3.7/http/server.py\", line 137, in server_bind\n",
      "\u001b[2m\u001b[33m(pid=raylet)\u001b[0m     socketserver.TCPServer.server_bind(self)\n",
      "\u001b[2m\u001b[33m(pid=raylet)\u001b[0m   File \"/Users/atambu310/anaconda3/lib/python3.7/socketserver.py\", line 466, in server_bind\n",
      "\u001b[2m\u001b[33m(pid=raylet)\u001b[0m     self.socket.bind(self.server_address)\n",
      "\u001b[2m\u001b[33m(pid=raylet)\u001b[0m OSError: [Errno 48] Address already in use\n",
      "2021-04-20 16:58:33,356\tWARNING worker.py:1034 -- The agent on node HQSML-1689941 failed with the following error:\n",
      "Traceback (most recent call last):\n",
      "  File \"/Users/atambu310/anaconda3/lib/python3.7/site-packages/ray/new_dashboard/agent.py\", line 306, in <module>\n",
      "    loop.run_until_complete(agent.run())\n",
      "  File \"/Users/atambu310/anaconda3/lib/python3.7/asyncio/base_events.py\", line 584, in run_until_complete\n",
      "    return future.result()\n",
      "  File \"/Users/atambu310/anaconda3/lib/python3.7/site-packages/ray/new_dashboard/agent.py\", line 131, in run\n",
      "    modules = self._load_modules()\n",
      "  File \"/Users/atambu310/anaconda3/lib/python3.7/site-packages/ray/new_dashboard/agent.py\", line 86, in _load_modules\n",
      "    c = cls(self)\n",
      "  File \"/Users/atambu310/anaconda3/lib/python3.7/site-packages/ray/new_dashboard/modules/reporter/reporter_agent.py\", line 72, in __init__\n",
      "    self._metrics_agent = MetricsAgent(dashboard_agent.metrics_export_port)\n",
      "  File \"/Users/atambu310/anaconda3/lib/python3.7/site-packages/ray/metrics_agent.py\", line 42, in __init__\n",
      "    namespace=\"ray\", port=metrics_export_port)))\n",
      "  File \"/Users/atambu310/anaconda3/lib/python3.7/site-packages/ray/prometheus_exporter.py\", line 334, in new_stats_exporter\n",
      "    options=option, gatherer=option.registry, collector=collector)\n",
      "  File \"/Users/atambu310/anaconda3/lib/python3.7/site-packages/ray/prometheus_exporter.py\", line 266, in __init__\n",
      "    self.serve_http()\n",
      "  File \"/Users/atambu310/anaconda3/lib/python3.7/site-packages/ray/prometheus_exporter.py\", line 321, in serve_http\n",
      "    port=self.options.port, addr=str(self.options.address))\n",
      "  File \"/Users/atambu310/anaconda3/lib/python3.7/site-packages/prometheus_client/exposition.py\", line 193, in start_http_server\n",
      "    httpd = _ThreadingSimpleServer((addr, port), CustomMetricsHandler)\n",
      "  File \"/Users/atambu310/anaconda3/lib/python3.7/socketserver.py\", line 452, in __init__\n",
      "    self.server_bind()\n",
      "  File \"/Users/atambu310/anaconda3/lib/python3.7/http/server.py\", line 137, in server_bind\n",
      "    socketserver.TCPServer.server_bind(self)\n",
      "  File \"/Users/atambu310/anaconda3/lib/python3.7/socketserver.py\", line 466, in server_bind\n",
      "    self.socket.bind(self.server_address)\n",
      "OSError: [Errno 48] Address already in use\n",
      "\n",
      "\u001b[2m\u001b[33m(pid=raylet)\u001b[0m Traceback (most recent call last):\n",
      "\u001b[2m\u001b[33m(pid=raylet)\u001b[0m   File \"/Users/atambu310/anaconda3/lib/python3.7/site-packages/ray/new_dashboard/agent.py\", line 317, in <module>\n",
      "\u001b[2m\u001b[33m(pid=raylet)\u001b[0m     raise e\n",
      "\u001b[2m\u001b[33m(pid=raylet)\u001b[0m   File \"/Users/atambu310/anaconda3/lib/python3.7/site-packages/ray/new_dashboard/agent.py\", line 306, in <module>\n",
      "\u001b[2m\u001b[33m(pid=raylet)\u001b[0m     loop.run_until_complete(agent.run())\n",
      "\u001b[2m\u001b[33m(pid=raylet)\u001b[0m   File \"/Users/atambu310/anaconda3/lib/python3.7/asyncio/base_events.py\", line 584, in run_until_complete\n",
      "\u001b[2m\u001b[33m(pid=raylet)\u001b[0m     return future.result()\n",
      "\u001b[2m\u001b[33m(pid=raylet)\u001b[0m   File \"/Users/atambu310/anaconda3/lib/python3.7/site-packages/ray/new_dashboard/agent.py\", line 131, in run\n",
      "\u001b[2m\u001b[33m(pid=raylet)\u001b[0m     modules = self._load_modules()\n",
      "\u001b[2m\u001b[33m(pid=raylet)\u001b[0m   File \"/Users/atambu310/anaconda3/lib/python3.7/site-packages/ray/new_dashboard/agent.py\", line 86, in _load_modules\n",
      "\u001b[2m\u001b[33m(pid=raylet)\u001b[0m     c = cls(self)\n",
      "\u001b[2m\u001b[33m(pid=raylet)\u001b[0m   File \"/Users/atambu310/anaconda3/lib/python3.7/site-packages/ray/new_dashboard/modules/reporter/reporter_agent.py\", line 72, in __init__\n",
      "\u001b[2m\u001b[33m(pid=raylet)\u001b[0m     self._metrics_agent = MetricsAgent(dashboard_agent.metrics_export_port)\n",
      "\u001b[2m\u001b[33m(pid=raylet)\u001b[0m   File \"/Users/atambu310/anaconda3/lib/python3.7/site-packages/ray/metrics_agent.py\", line 42, in __init__\n",
      "\u001b[2m\u001b[33m(pid=raylet)\u001b[0m     namespace=\"ray\", port=metrics_export_port)))\n",
      "\u001b[2m\u001b[33m(pid=raylet)\u001b[0m   File \"/Users/atambu310/anaconda3/lib/python3.7/site-packages/ray/prometheus_exporter.py\", line 334, in new_stats_exporter\n",
      "\u001b[2m\u001b[33m(pid=raylet)\u001b[0m     options=option, gatherer=option.registry, collector=collector)\n",
      "\u001b[2m\u001b[33m(pid=raylet)\u001b[0m   File \"/Users/atambu310/anaconda3/lib/python3.7/site-packages/ray/prometheus_exporter.py\", line 266, in __init__\n",
      "\u001b[2m\u001b[33m(pid=raylet)\u001b[0m     self.serve_http()\n",
      "\u001b[2m\u001b[33m(pid=raylet)\u001b[0m   File \"/Users/atambu310/anaconda3/lib/python3.7/site-packages/ray/prometheus_exporter.py\", line 321, in serve_http\n",
      "\u001b[2m\u001b[33m(pid=raylet)\u001b[0m     port=self.options.port, addr=str(self.options.address))\n",
      "\u001b[2m\u001b[33m(pid=raylet)\u001b[0m   File \"/Users/atambu310/anaconda3/lib/python3.7/site-packages/prometheus_client/exposition.py\", line 193, in start_http_server\n",
      "\u001b[2m\u001b[33m(pid=raylet)\u001b[0m     httpd = _ThreadingSimpleServer((addr, port), CustomMetricsHandler)\n",
      "\u001b[2m\u001b[33m(pid=raylet)\u001b[0m   File \"/Users/atambu310/anaconda3/lib/python3.7/socketserver.py\", line 452, in __init__\n",
      "\u001b[2m\u001b[33m(pid=raylet)\u001b[0m     self.server_bind()\n",
      "\u001b[2m\u001b[33m(pid=raylet)\u001b[0m   File \"/Users/atambu310/anaconda3/lib/python3.7/http/server.py\", line 137, in server_bind\n",
      "\u001b[2m\u001b[33m(pid=raylet)\u001b[0m     socketserver.TCPServer.server_bind(self)\n",
      "\u001b[2m\u001b[33m(pid=raylet)\u001b[0m   File \"/Users/atambu310/anaconda3/lib/python3.7/socketserver.py\", line 466, in server_bind\n",
      "\u001b[2m\u001b[33m(pid=raylet)\u001b[0m     self.socket.bind(self.server_address)\n",
      "\u001b[2m\u001b[33m(pid=raylet)\u001b[0m OSError: [Errno 48] Address already in use\n"
     ]
    },
    {
     "name": "stderr",
     "output_type": "stream",
     "text": [
      "2021-04-20 16:58:37,997\tWARNING worker.py:1034 -- The agent on node HQSML-1689941 failed with the following error:\n",
      "Traceback (most recent call last):\n",
      "  File \"/Users/atambu310/anaconda3/lib/python3.7/site-packages/ray/new_dashboard/agent.py\", line 306, in <module>\n",
      "    loop.run_until_complete(agent.run())\n",
      "  File \"/Users/atambu310/anaconda3/lib/python3.7/asyncio/base_events.py\", line 584, in run_until_complete\n",
      "    return future.result()\n",
      "  File \"/Users/atambu310/anaconda3/lib/python3.7/site-packages/ray/new_dashboard/agent.py\", line 131, in run\n",
      "    modules = self._load_modules()\n",
      "  File \"/Users/atambu310/anaconda3/lib/python3.7/site-packages/ray/new_dashboard/agent.py\", line 86, in _load_modules\n",
      "    c = cls(self)\n",
      "  File \"/Users/atambu310/anaconda3/lib/python3.7/site-packages/ray/new_dashboard/modules/reporter/reporter_agent.py\", line 72, in __init__\n",
      "    self._metrics_agent = MetricsAgent(dashboard_agent.metrics_export_port)\n",
      "  File \"/Users/atambu310/anaconda3/lib/python3.7/site-packages/ray/metrics_agent.py\", line 42, in __init__\n",
      "    namespace=\"ray\", port=metrics_export_port)))\n",
      "  File \"/Users/atambu310/anaconda3/lib/python3.7/site-packages/ray/prometheus_exporter.py\", line 334, in new_stats_exporter\n",
      "    options=option, gatherer=option.registry, collector=collector)\n",
      "  File \"/Users/atambu310/anaconda3/lib/python3.7/site-packages/ray/prometheus_exporter.py\", line 266, in __init__\n",
      "    self.serve_http()\n",
      "  File \"/Users/atambu310/anaconda3/lib/python3.7/site-packages/ray/prometheus_exporter.py\", line 321, in serve_http\n",
      "    port=self.options.port, addr=str(self.options.address))\n",
      "  File \"/Users/atambu310/anaconda3/lib/python3.7/site-packages/prometheus_client/exposition.py\", line 193, in start_http_server\n",
      "    httpd = _ThreadingSimpleServer((addr, port), CustomMetricsHandler)\n",
      "  File \"/Users/atambu310/anaconda3/lib/python3.7/socketserver.py\", line 452, in __init__\n",
      "    self.server_bind()\n",
      "  File \"/Users/atambu310/anaconda3/lib/python3.7/http/server.py\", line 137, in server_bind\n",
      "    socketserver.TCPServer.server_bind(self)\n",
      "  File \"/Users/atambu310/anaconda3/lib/python3.7/socketserver.py\", line 466, in server_bind\n",
      "    self.socket.bind(self.server_address)\n",
      "OSError: [Errno 48] Address already in use\n",
      "\n",
      "\u001b[2m\u001b[33m(pid=raylet)\u001b[0m Traceback (most recent call last):\n",
      "\u001b[2m\u001b[33m(pid=raylet)\u001b[0m   File \"/Users/atambu310/anaconda3/lib/python3.7/site-packages/ray/new_dashboard/agent.py\", line 317, in <module>\n",
      "\u001b[2m\u001b[33m(pid=raylet)\u001b[0m     raise e\n",
      "\u001b[2m\u001b[33m(pid=raylet)\u001b[0m   File \"/Users/atambu310/anaconda3/lib/python3.7/site-packages/ray/new_dashboard/agent.py\", line 306, in <module>\n",
      "\u001b[2m\u001b[33m(pid=raylet)\u001b[0m     loop.run_until_complete(agent.run())\n",
      "\u001b[2m\u001b[33m(pid=raylet)\u001b[0m   File \"/Users/atambu310/anaconda3/lib/python3.7/asyncio/base_events.py\", line 584, in run_until_complete\n",
      "\u001b[2m\u001b[33m(pid=raylet)\u001b[0m     return future.result()\n",
      "\u001b[2m\u001b[33m(pid=raylet)\u001b[0m \n",
      "\u001b[2m\u001b[33m(pid=raylet)\u001b[0m   File \"/Users/atambu310/anaconda3/lib/python3.7/site-packages/ray/new_dashboard/agent.py\", line 131, in run\n",
      "\u001b[2m\u001b[33m(pid=raylet)\u001b[0m     modules = self._load_modules()\n",
      "\u001b[2m\u001b[33m(pid=raylet)\u001b[0m   File \"/Users/atambu310/anaconda3/lib/python3.7/site-packages/ray/new_dashboard/agent.py\", line 86, in _load_modules\n",
      "\u001b[2m\u001b[33m(pid=raylet)\u001b[0m     c = cls(self)\n",
      "\u001b[2m\u001b[33m(pid=raylet)\u001b[0m   File \"/Users/atambu310/anaconda3/lib/python3.7/site-packages/ray/new_dashboard/modules/reporter/reporter_agent.py\", line 72, in __init__\n",
      "\u001b[2m\u001b[33m(pid=raylet)\u001b[0m     self._metrics_agent = MetricsAgent(dashboard_agent.metrics_export_port)\n",
      "\u001b[2m\u001b[33m(pid=raylet)\u001b[0m   File \"/Users/atambu310/anaconda3/lib/python3.7/site-packages/ray/metrics_agent.py\", line 42, in __init__\n",
      "\u001b[2m\u001b[33m(pid=raylet)\u001b[0m     namespace=\"ray\", port=metrics_export_port)))\n",
      "\u001b[2m\u001b[33m(pid=raylet)\u001b[0m   File \"/Users/atambu310/anaconda3/lib/python3.7/site-packages/ray/prometheus_exporter.py\", line 334, in new_stats_exporter\n",
      "\u001b[2m\u001b[33m(pid=raylet)\u001b[0m     options=option, gatherer=option.registry, collector=collector)\n",
      "\u001b[2m\u001b[33m(pid=raylet)\u001b[0m   File \"/Users/atambu310/anaconda3/lib/python3.7/site-packages/ray/prometheus_exporter.py\", line 266, in __init__\n",
      "\u001b[2m\u001b[33m(pid=raylet)\u001b[0m     self.serve_http()\n",
      "\u001b[2m\u001b[33m(pid=raylet)\u001b[0m   File \"/Users/atambu310/anaconda3/lib/python3.7/site-packages/ray/prometheus_exporter.py\", line 321, in serve_http\n",
      "\u001b[2m\u001b[33m(pid=raylet)\u001b[0m     port=self.options.port, addr=str(self.options.address))\n",
      "\u001b[2m\u001b[33m(pid=raylet)\u001b[0m   File \"/Users/atambu310/anaconda3/lib/python3.7/site-packages/prometheus_client/exposition.py\", line 193, in start_http_server\n",
      "\u001b[2m\u001b[33m(pid=raylet)\u001b[0m     httpd = _ThreadingSimpleServer((addr, port), CustomMetricsHandler)\n",
      "\u001b[2m\u001b[33m(pid=raylet)\u001b[0m   File \"/Users/atambu310/anaconda3/lib/python3.7/socketserver.py\", line 452, in __init__\n",
      "\u001b[2m\u001b[33m(pid=raylet)\u001b[0m     self.server_bind()\n",
      "\u001b[2m\u001b[33m(pid=raylet)\u001b[0m   File \"/Users/atambu310/anaconda3/lib/python3.7/http/server.py\", line 137, in server_bind\n",
      "\u001b[2m\u001b[33m(pid=raylet)\u001b[0m     socketserver.TCPServer.server_bind(self)\n",
      "\u001b[2m\u001b[33m(pid=raylet)\u001b[0m   File \"/Users/atambu310/anaconda3/lib/python3.7/socketserver.py\", line 466, in server_bind\n",
      "\u001b[2m\u001b[33m(pid=raylet)\u001b[0m     self.socket.bind(self.server_address)\n",
      "\u001b[2m\u001b[33m(pid=raylet)\u001b[0m OSError: [Errno 48] Address already in use\n",
      "2021-04-20 16:58:43,959\tWARNING worker.py:1034 -- The agent on node HQSML-1689941 failed with the following error:\n",
      "Traceback (most recent call last):\n",
      "  File \"/Users/atambu310/anaconda3/lib/python3.7/site-packages/ray/new_dashboard/agent.py\", line 306, in <module>\n",
      "    loop.run_until_complete(agent.run())\n",
      "  File \"/Users/atambu310/anaconda3/lib/python3.7/asyncio/base_events.py\", line 584, in run_until_complete\n",
      "    return future.result()\n",
      "  File \"/Users/atambu310/anaconda3/lib/python3.7/site-packages/ray/new_dashboard/agent.py\", line 131, in run\n",
      "    modules = self._load_modules()\n",
      "  File \"/Users/atambu310/anaconda3/lib/python3.7/site-packages/ray/new_dashboard/agent.py\", line 86, in _load_modules\n",
      "    c = cls(self)\n",
      "  File \"/Users/atambu310/anaconda3/lib/python3.7/site-packages/ray/new_dashboard/modules/reporter/reporter_agent.py\", line 72, in __init__\n",
      "    self._metrics_agent = MetricsAgent(dashboard_agent.metrics_export_port)\n",
      "  File \"/Users/atambu310/anaconda3/lib/python3.7/site-packages/ray/metrics_agent.py\", line 42, in __init__\n",
      "    namespace=\"ray\", port=metrics_export_port)))\n",
      "  File \"/Users/atambu310/anaconda3/lib/python3.7/site-packages/ray/prometheus_exporter.py\", line 334, in new_stats_exporter\n",
      "    options=option, gatherer=option.registry, collector=collector)\n",
      "  File \"/Users/atambu310/anaconda3/lib/python3.7/site-packages/ray/prometheus_exporter.py\", line 266, in __init__\n",
      "    self.serve_http()\n",
      "  File \"/Users/atambu310/anaconda3/lib/python3.7/site-packages/ray/prometheus_exporter.py\", line 321, in serve_http\n",
      "    port=self.options.port, addr=str(self.options.address))\n",
      "  File \"/Users/atambu310/anaconda3/lib/python3.7/site-packages/prometheus_client/exposition.py\", line 193, in start_http_server\n",
      "    httpd = _ThreadingSimpleServer((addr, port), CustomMetricsHandler)\n",
      "  File \"/Users/atambu310/anaconda3/lib/python3.7/socketserver.py\", line 452, in __init__\n",
      "    self.server_bind()\n",
      "  File \"/Users/atambu310/anaconda3/lib/python3.7/http/server.py\", line 137, in server_bind\n",
      "    socketserver.TCPServer.server_bind(self)\n",
      "  File \"/Users/atambu310/anaconda3/lib/python3.7/socketserver.py\", line 466, in server_bind\n",
      "    self.socket.bind(self.server_address)\n",
      "OSError: [Errno 48] Address already in use\n",
      "\n",
      "\u001b[2m\u001b[33m(pid=raylet)\u001b[0m Traceback (most recent call last):\n",
      "\u001b[2m\u001b[33m(pid=raylet)\u001b[0m   File \"/Users/atambu310/anaconda3/lib/python3.7/site-packages/ray/new_dashboard/agent.py\", line 317, in <module>\n",
      "\u001b[2m\u001b[33m(pid=raylet)\u001b[0m     raise e\n",
      "\u001b[2m\u001b[33m(pid=raylet)\u001b[0m   File \"/Users/atambu310/anaconda3/lib/python3.7/site-packages/ray/new_dashboard/agent.py\", line 306, in <module>\n",
      "\u001b[2m\u001b[33m(pid=raylet)\u001b[0m     loop.run_until_complete(agent.run())\n",
      "\u001b[2m\u001b[33m(pid=raylet)\u001b[0m   File \"/Users/atambu310/anaconda3/lib/python3.7/asyncio/base_events.py\", line 584, in run_until_complete\n",
      "\u001b[2m\u001b[33m(pid=raylet)\u001b[0m     return future.result()\n",
      "\u001b[2m\u001b[33m(pid=raylet)\u001b[0m   File \"/Users/atambu310/anaconda3/lib/python3.7/site-packages/ray/new_dashboard/agent.py\", line 131, in run\n",
      "\u001b[2m\u001b[33m(pid=raylet)\u001b[0m     modules = self._load_modules()\n",
      "\u001b[2m\u001b[33m(pid=raylet)\u001b[0m   File \"/Users/atambu310/anaconda3/lib/python3.7/site-packages/ray/new_dashboard/agent.py\", line 86, in _load_modules\n",
      "\u001b[2m\u001b[33m(pid=raylet)\u001b[0m     c = cls(self)\n",
      "\u001b[2m\u001b[33m(pid=raylet)\u001b[0m   File \"/Users/atambu310/anaconda3/lib/python3.7/site-packages/ray/new_dashboard/modules/reporter/reporter_agent.py\", line 72, in __init__\n",
      "\u001b[2m\u001b[33m(pid=raylet)\u001b[0m     self._metrics_agent = MetricsAgent(dashboard_agent.metrics_export_port)\n",
      "\u001b[2m\u001b[33m(pid=raylet)\u001b[0m   File \"/Users/atambu310/anaconda3/lib/python3.7/site-packages/ray/metrics_agent.py\", line 42, in __init__\n",
      "\u001b[2m\u001b[33m(pid=raylet)\u001b[0m     namespace=\"ray\", port=metrics_export_port)))\n",
      "\u001b[2m\u001b[33m(pid=raylet)\u001b[0m   File \"/Users/atambu310/anaconda3/lib/python3.7/site-packages/ray/prometheus_exporter.py\", line 334, in new_stats_exporter\n",
      "\u001b[2m\u001b[33m(pid=raylet)\u001b[0m     options=option, gatherer=option.registry, collector=collector)\n",
      "\u001b[2m\u001b[33m(pid=raylet)\u001b[0m   File \"/Users/atambu310/anaconda3/lib/python3.7/site-packages/ray/prometheus_exporter.py\", line 266, in __init__\n",
      "\u001b[2m\u001b[33m(pid=raylet)\u001b[0m     self.serve_http()\n",
      "\u001b[2m\u001b[33m(pid=raylet)\u001b[0m   File \"/Users/atambu310/anaconda3/lib/python3.7/site-packages/ray/prometheus_exporter.py\", line 321, in serve_http\n",
      "\u001b[2m\u001b[33m(pid=raylet)\u001b[0m     port=self.options.port, addr=str(self.options.address))\n",
      "\u001b[2m\u001b[33m(pid=raylet)\u001b[0m   File \"/Users/atambu310/anaconda3/lib/python3.7/site-packages/prometheus_client/exposition.py\", line 193, in start_http_server\n",
      "\u001b[2m\u001b[33m(pid=raylet)\u001b[0m     httpd = _ThreadingSimpleServer((addr, port), CustomMetricsHandler)\n",
      "\u001b[2m\u001b[33m(pid=raylet)\u001b[0m   File \"/Users/atambu310/anaconda3/lib/python3.7/socketserver.py\", line 452, in __init__\n",
      "\u001b[2m\u001b[33m(pid=raylet)\u001b[0m     self.server_bind()\n",
      "\u001b[2m\u001b[33m(pid=raylet)\u001b[0m   File \"/Users/atambu310/anaconda3/lib/python3.7/http/server.py\", line 137, in server_bind\n",
      "\u001b[2m\u001b[33m(pid=raylet)\u001b[0m     socketserver.TCPServer.server_bind(self)\n",
      "\u001b[2m\u001b[33m(pid=raylet)\u001b[0m   File \"/Users/atambu310/anaconda3/lib/python3.7/socketserver.py\", line 466, in server_bind\n",
      "\u001b[2m\u001b[33m(pid=raylet)\u001b[0m     self.socket.bind(self.server_address)\n",
      "\u001b[2m\u001b[33m(pid=raylet)\u001b[0m OSError: [Errno 48] Address already in use\n"
     ]
    },
    {
     "ename": "KeyboardInterrupt",
     "evalue": "",
     "output_type": "error",
     "traceback": [
      "\u001b[0;31m---------------------------------------------------------------------------\u001b[0m",
      "\u001b[0;31mKeyboardInterrupt\u001b[0m                         Traceback (most recent call last)",
      "\u001b[0;32m<timed exec>\u001b[0m in \u001b[0;36m<module>\u001b[0;34m\u001b[0m\n",
      "\u001b[0;32m~/anaconda3/lib/python3.7/site-packages/ray/worker.py\u001b[0m in \u001b[0;36mget\u001b[0;34m(object_refs, timeout)\u001b[0m\n\u001b[1;32m   1370\u001b[0m         \u001b[0;31m# TODO(ujvl): Consider how to allow user to retrieve the ready objects.\u001b[0m\u001b[0;34m\u001b[0m\u001b[0;34m\u001b[0m\u001b[0;34m\u001b[0m\u001b[0m\n\u001b[1;32m   1371\u001b[0m         values, debugger_breakpoint = worker.get_objects(\n\u001b[0;32m-> 1372\u001b[0;31m             object_refs, timeout=timeout)\n\u001b[0m\u001b[1;32m   1373\u001b[0m         \u001b[0;32mfor\u001b[0m \u001b[0mi\u001b[0m\u001b[0;34m,\u001b[0m \u001b[0mvalue\u001b[0m \u001b[0;32min\u001b[0m \u001b[0menumerate\u001b[0m\u001b[0;34m(\u001b[0m\u001b[0mvalues\u001b[0m\u001b[0;34m)\u001b[0m\u001b[0;34m:\u001b[0m\u001b[0;34m\u001b[0m\u001b[0;34m\u001b[0m\u001b[0m\n\u001b[1;32m   1374\u001b[0m             \u001b[0;32mif\u001b[0m \u001b[0misinstance\u001b[0m\u001b[0;34m(\u001b[0m\u001b[0mvalue\u001b[0m\u001b[0;34m,\u001b[0m \u001b[0mRayError\u001b[0m\u001b[0;34m)\u001b[0m\u001b[0;34m:\u001b[0m\u001b[0;34m\u001b[0m\u001b[0;34m\u001b[0m\u001b[0m\n",
      "\u001b[0;32m~/anaconda3/lib/python3.7/site-packages/ray/worker.py\u001b[0m in \u001b[0;36mget_objects\u001b[0;34m(self, object_refs, timeout)\u001b[0m\n\u001b[1;32m    302\u001b[0m         \u001b[0mtimeout_ms\u001b[0m \u001b[0;34m=\u001b[0m \u001b[0mint\u001b[0m\u001b[0;34m(\u001b[0m\u001b[0mtimeout\u001b[0m \u001b[0;34m*\u001b[0m \u001b[0;36m1000\u001b[0m\u001b[0;34m)\u001b[0m \u001b[0;32mif\u001b[0m \u001b[0mtimeout\u001b[0m \u001b[0;32melse\u001b[0m \u001b[0;34m-\u001b[0m\u001b[0;36m1\u001b[0m\u001b[0;34m\u001b[0m\u001b[0;34m\u001b[0m\u001b[0m\n\u001b[1;32m    303\u001b[0m         data_metadata_pairs = self.core_worker.get_objects(\n\u001b[0;32m--> 304\u001b[0;31m             object_refs, self.current_task_id, timeout_ms)\n\u001b[0m\u001b[1;32m    305\u001b[0m         \u001b[0mdebugger_breakpoint\u001b[0m \u001b[0;34m=\u001b[0m \u001b[0;34mb\"\"\u001b[0m\u001b[0;34m\u001b[0m\u001b[0;34m\u001b[0m\u001b[0m\n\u001b[1;32m    306\u001b[0m         \u001b[0;32mfor\u001b[0m \u001b[0;34m(\u001b[0m\u001b[0mdata\u001b[0m\u001b[0;34m,\u001b[0m \u001b[0mmetadata\u001b[0m\u001b[0;34m)\u001b[0m \u001b[0;32min\u001b[0m \u001b[0mdata_metadata_pairs\u001b[0m\u001b[0;34m:\u001b[0m\u001b[0;34m\u001b[0m\u001b[0;34m\u001b[0m\u001b[0m\n",
      "\u001b[0;32mpython/ray/_raylet.pyx\u001b[0m in \u001b[0;36mray._raylet.CoreWorker.get_objects\u001b[0;34m()\u001b[0m\n",
      "\u001b[0;32mpython/ray/_raylet.pyx\u001b[0m in \u001b[0;36mray._raylet.check_status\u001b[0;34m()\u001b[0m\n",
      "\u001b[0;31mKeyboardInterrupt\u001b[0m: "
     ]
    }
   ],
   "source": [
    "%%time \n",
    "\n",
    "num_cpus = psutil.cpu_count(logical=False)\n",
    "max_chats = 10# len(chats_df['Transcript'].tolist())\n",
    "n_cells = 2 #to run in a single process\n",
    "\n",
    "print('Processing', max_chats, 'chats')\n",
    "\n",
    "# split task into chunks\n",
    "run_list_chnks = np.linspace(0, max_chats, int(max_chats/n_cells), dtype=int)\n",
    "run_list_chnks = [(run_list_chnks[i],run_list_chnks[i+1]) for i in range(0,len(run_list_chnks)-1)]\n",
    "\n",
    "# init ray\n",
    "ray.init(num_cpus=num_cpus)\n",
    "\n",
    "phrase_thr = 0.50\n",
    "\n",
    "texts_ray = ray.put(all_chats[:max_chats])\n",
    "talking_points_ray = ray.put(talking_points)\n",
    "\n",
    "pT = [processText.remote() for _ in range(num_cpus)]\n",
    "\n",
    "# every 'num_cpus' jobs, start from worker 0 again\n",
    "result_ids = [pT[i % num_cpus].get_points.remote(run_list_chnks[i],\n",
    "                                                 phrase_thr=phrase_thr) for i in range(len(run_list_chnks))] \n",
    "\n",
    "# Fetch the results.\n",
    "#results = ray.get(result_ids)    \n",
    "results_c = ray.get(result_ids)\n",
    "\n",
    "ray.shutdown()"
   ]
  },
  {
   "cell_type": "code",
   "execution_count": 224,
   "metadata": {},
   "outputs": [],
   "source": [
    "ray.shutdown()"
   ]
  },
  {
   "cell_type": "markdown",
   "metadata": {},
   "source": [
    "#### Example of Processed Chat Data"
   ]
  },
  {
   "cell_type": "code",
   "execution_count": 225,
   "metadata": {},
   "outputs": [
    {
     "data": {
      "text/plain": [
       "{(0,\n",
       "  \"Wow! That is certainly different than Emily's poetry. There's such a diversity in poetry. It's no surprise, since poetry dates back to prehistorical times. Did you know some of the first poetry was hunting poetry in Africa?\"): [(66,\n",
       "   0.5327011)],\n",
       " (1,\n",
       "  'Glad script made black panther richest superhero, over characters like Tony Stark (Iron Man) and Bruce Wayne (Batman). Why not? ?'): [(58,\n",
       "   0.5512788),\n",
       "  (202, 0.51923746),\n",
       "  (230, 0.5024118)],\n",
       " (1,\n",
       "  \"True!! You didn't miss anything. Marvel Comics character was not named after the 70's Black Panther Party, though studio almost called film, Black Leopard.\"): [(58,\n",
       "   0.53018355)]}"
      ]
     },
     "execution_count": 225,
     "metadata": {},
     "output_type": "execute_result"
    }
   ],
   "source": [
    "results_c[0] # (chat index, utterance text above threshold): [(talking point 1, similarity to utterance),(talking point 2, similarity to utterance)] "
   ]
  },
  {
   "cell_type": "code",
   "execution_count": 227,
   "metadata": {},
   "outputs": [
    {
     "data": {
      "text/plain": [
       "\"Black Panther is a 2018 American superhero film based on the Marvel Comics character of the same name. Produced by Marvel Studios and distributed by Walt Disney Studios Motion Pictures, it is the eighteenth film in the Marvel Cinematic Universe (MCU). The film is directed by Ryan Coogler, who co-wrote the screenplay with Joe Robert Cole, and stars Chadwick Boseman as T'Challa / Black Panther, alongside Michael B. Jordan, Lupita Nyong'o, Danai Gurira, Martin Freeman, Daniel Kaluuya, Letitia Wright, Winston Duke, Angela Bassett, Forest Whitaker, and Andy Serkis. In Black Panther, T'Challa is crowned king of Wakanda following his father's death, but his sovereignty is challenged by an adversary who plans to abandon the country's isolationist policies and begin a global revolution.\""
      ]
     },
     "execution_count": 227,
     "metadata": {},
     "output_type": "execute_result"
    }
   ],
   "source": [
    "talking_points[58]"
   ]
  },
  {
   "cell_type": "markdown",
   "metadata": {},
   "source": [
    "[Back to Contents](#Table-of-Contents)"
   ]
  },
  {
   "cell_type": "markdown",
   "metadata": {},
   "source": [
    "## Analyzing Processed Data\n",
    "\n",
    "For each talking point in the table below, we randomly sample few transcript extracts to check reliability of extract retrieval approach used in this notebook "
   ]
  },
  {
   "cell_type": "code",
   "execution_count": null,
   "metadata": {
    "code_folding": [
     0
    ]
   },
   "outputs": [],
   "source": [
    "def analyze_results(results, n_texts, phrase_thr, verbose=True):\n",
    "\n",
    "    talking_points_cnts = {k: 0 for k in talking_points}\n",
    "\n",
    "    # loop over processed chunks and extract statistics\n",
    "    for rr in range(len(results)):\n",
    "        for chat_no_extract,tp_no_sim in results[rr].items():\n",
    "            chat_no, chat_extract = chat_no_extract[0], chat_no_extract[1]\n",
    "            tp_no_sim_sorted = sorted(tp_no_sim, key=lambda x: x[1], reverse=True) # sort by similarity values\n",
    "            for kk in tp_no_sim_sorted[:1]: # take best\n",
    "                tp_no = kk[0]\n",
    "                tp_sim = kk[1]\n",
    "                if tp_sim>phrase_thr:\n",
    "                    if verbose:\n",
    "                        print('------> Chat no. ', chat_no, 'Type: ', df.chatQueueLob[chat_no])\n",
    "                        print('---> Extract:', chat_extract)\n",
    "                        print('---> Phrase ', talking_points[tp_no])\n",
    "                        print('---> Similarity index', tp_sim)\n",
    "                    talking_points_cnts[talking_points[tp_no]] += 1\n",
    "                 \n",
    "    #extract some examples of match\n",
    "    sample_extracts = {tp: [] for tp in talking_points}\n",
    "    for tp in talking_points:\n",
    "        for rr in range(len(results)):\n",
    "            for chat_no_extract, tp_no_sim in results[rr].items():\n",
    "                chat_no, chat_extract = chat_no_extract[0], chat_no_extract[1]\n",
    "                tp_no_sim_sorted = sorted(tp_no_sim, key=lambda x: x[1], reverse=True)\n",
    "                for kk in tp_no_sim_sorted[:1]: # take best\n",
    "                    tp_no = kk[0]\n",
    "                    tp_sim = kk[1]\n",
    "                    if tp_sim>phrase_thr and tp_no==talking_points.index(tp):\n",
    "                        sample_extracts[tp].append('**' + chat_extract)\n",
    "                        #print('----->', tp)\n",
    "                        #print('---> Extract:', chat_extract)\n",
    "        if verbose:\n",
    "            print(tp, len(sample_extracts[tp]), len(sample(sample_extracts[tp],min(20, len(sample_extracts[tp])))))\n",
    "        sample_extracts[tp] = '\\n'.join(sample(sample_extracts[tp],min(20, len(sample_extracts[tp])))) # sample only 5 examples\n",
    "        #sample_extracts[tp] = '\\n'.join(sample_extracts[tp]) # sample only 5 examples\n",
    "    sample_extracts = [v for k,v in sample_extracts.items()]\n",
    "    \n",
    "    ## put in excel\n",
    "    results_df = pd.DataFrame({'Talking Points': [k for k,v  in talking_points_cnts.items()], \n",
    "                  'Perc. Used': [100*v/n_texts for k,v  in talking_points_cnts.items()],\n",
    "                  'Sample Extracts': sample_extracts,\n",
    "                  'Human Corrected': [0 for k in talking_points_cnts]})# randomly sample 20 extracts for each talking point and visually inspect how many are right\n",
    "\n",
    "    results_df.to_excel('extracts.xlsx')\n",
    "\n",
    "    return results_df"
   ]
  },
  {
   "cell_type": "markdown",
   "metadata": {},
   "source": [
    "[Back to Contents](#Table-of-Contents)"
   ]
  },
  {
   "cell_type": "markdown",
   "metadata": {},
   "source": [
    "### Analyzing Chats"
   ]
  },
  {
   "cell_type": "code",
   "execution_count": null,
   "metadata": {},
   "outputs": [],
   "source": [
    "results_c_df = analyze_results(results_c, max_chats, phrase_thr=0.6, verbose=False)\n",
    "results_c_df"
   ]
  },
  {
   "cell_type": "code",
   "execution_count": null,
   "metadata": {},
   "outputs": [],
   "source": [
    "i = 5\n",
    "results_c_df.iloc[i,0], results_c_df.iloc[i,2].split('\\n')"
   ]
  },
  {
   "cell_type": "code",
   "execution_count": null,
   "metadata": {},
   "outputs": [],
   "source": [
    "i = 7\n",
    "results_c_df.iloc[i,0], results_c_df.iloc[i,2].split('\\n')"
   ]
  },
  {
   "cell_type": "code",
   "execution_count": null,
   "metadata": {},
   "outputs": [],
   "source": []
  },
  {
   "cell_type": "markdown",
   "metadata": {},
   "source": [
    "[Back to Contents](#Table-of-Contents)"
   ]
  },
  {
   "cell_type": "markdown",
   "metadata": {},
   "source": [
    "## Interactive Visualization of Results"
   ]
  },
  {
   "cell_type": "code",
   "execution_count": null,
   "metadata": {
    "code_folding": []
   },
   "outputs": [],
   "source": [
    "embed = SentenceTransformer('./models/sbert.net_models_._distiluse-base-multilingual-cased-v2')"
   ]
  },
  {
   "cell_type": "code",
   "execution_count": null,
   "metadata": {
    "code_folding": []
   },
   "outputs": [],
   "source": [
    "talking_points_emb = embed.encode(talking_points, convert_to_tensor=True)"
   ]
  },
  {
   "cell_type": "code",
   "execution_count": null,
   "metadata": {
    "code_folding": [
     1
    ]
   },
   "outputs": [],
   "source": [
    "# input text gets extra slash in front of \\n, so we added \\\\n for splitting sentences\n",
    "def clean_sentences(cT):\n",
    "\n",
    "        #create list of senteences from text\n",
    "        cT = re.sub(r'\\.\\.\\.','<UNK>', cT)\n",
    "        cT = re.sub(r'<UNK>','', cT)\n",
    "        cT = cT.split('\\\\n')\n",
    "                \n",
    "        cT = [s.lower() for s in cT] #lower case\n",
    "        cT = [\" \".join([w for w in s.split() if len(s.split())>5]) for s in cT]  #extra spaces, at least 5 words\n",
    "\n",
    "        if len(cT)==0:\n",
    "            return []\n",
    "\n",
    "        if len(cT)<3: # at least 3 sentences\n",
    "            return []\n",
    "        else:\n",
    "            return cT\n",
    "    \n",
    "    \n",
    "def get_points(cT, phrase_thr=0.60):\n",
    "\n",
    "        cT = clean_sentences(cT)\n",
    "            \n",
    "        if len(cT)==0:\n",
    "            return ''\n",
    "        \n",
    "        emb_cT = embed.encode(cT, convert_to_tensor=True)\n",
    "        # similarity \n",
    "        sim_mat = util.pytorch_cos_sim(emb_cT,\n",
    "                                       talking_points_emb).detach().cpu().numpy()\n",
    "            \n",
    "        # for each sentence find matching phrases above threshold. \n",
    "        for j in range(sim_mat.shape[0]):\n",
    "            sim_idx = np.where(sim_mat[j,]>phrase_thr)[0]\n",
    "            sim_values = [(k, sim_mat[j,k]) for k in sim_idx] \n",
    "            sim_sorted = sorted(sim_values, key=lambda x: x[1], reverse=True) # sort by similarity values\n",
    "            if len(sim_sorted)>0:\n",
    "                print('**utterance:', cT[j])\n",
    "                print('Talking Point:', talking_points[sim_sorted[0][0]])\n",
    "                print('Similarity: ', sim_sorted[0][1])            \n"
   ]
  },
  {
   "cell_type": "code",
   "execution_count": null,
   "metadata": {},
   "outputs": [],
   "source": [
    "print('**Available talking points**')\n",
    "print('')\n",
    "for i in talking_points:\n",
    "    print(i)"
   ]
  },
  {
   "cell_type": "code",
   "execution_count": null,
   "metadata": {
    "scrolled": true
   },
   "outputs": [],
   "source": [
    "#Chats\n",
    "i=185 #11, 185, 2010, 2334\n",
    "chats_df['Transcript'].iloc[i]\n",
    "#Calls\n",
    "#i=1460 #856, 865, 1460\n",
    "#calls_df['Transcript'].iloc[i]"
   ]
  },
  {
   "cell_type": "code",
   "execution_count": null,
   "metadata": {
    "scrolled": false
   },
   "outputs": [],
   "source": [
    "@interact_manual(in_text='', phrase_thr=widgets.FloatSlider(min=0.5, max=0.8, step=0.1, value=0.5))\n",
    "def g(in_text, phrase_thr):\n",
    "    return get_points(in_text, phrase_thr) "
   ]
  },
  {
   "cell_type": "code",
   "execution_count": null,
   "metadata": {
    "scrolled": true
   },
   "outputs": [],
   "source": [
    "## add pop-up message saying if talking point is pressed"
   ]
  },
  {
   "cell_type": "code",
   "execution_count": null,
   "metadata": {},
   "outputs": [],
   "source": []
  },
  {
   "cell_type": "markdown",
   "metadata": {},
   "source": [
    "[Back to Contents](#Table-of-Contents)"
   ]
  }
 ],
 "metadata": {
  "kernelspec": {
   "display_name": "Python 3",
   "language": "python",
   "name": "python3"
  },
  "language_info": {
   "codemirror_mode": {
    "name": "ipython",
    "version": 3
   },
   "file_extension": ".py",
   "mimetype": "text/x-python",
   "name": "python",
   "nbconvert_exporter": "python",
   "pygments_lexer": "ipython3",
   "version": "3.7.3"
  },
  "toc": {
   "base_numbering": 1,
   "nav_menu": {},
   "number_sections": true,
   "sideBar": true,
   "skip_h1_title": false,
   "title_cell": "Table of Contents",
   "title_sidebar": "Contents",
   "toc_cell": true,
   "toc_position": {},
   "toc_section_display": true,
   "toc_window_display": true
  }
 },
 "nbformat": 4,
 "nbformat_minor": 4
}
